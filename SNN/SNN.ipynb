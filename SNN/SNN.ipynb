{
 "cells": [
  {
   "cell_type": "code",
   "execution_count": 1,
   "metadata": {},
   "outputs": [],
   "source": [
    "import numpy as np\n",
    "import math\n",
    "\n",
    "import struct\n",
    "import os\n",
    "\n",
    "from tqdm import tqdm\n",
    "\n",
    "import snntorch as snn\n",
    "import torch\n",
    "import torch.nn as nn\n",
    "\n",
    "import snntorch.spikeplot as splt\n",
    "from torchvision import transforms\n",
    "from torch.utils.data import Dataset, DataLoader, random_split\n",
    "from torchmetrics.classification import MulticlassConfusionMatrix\n",
    "\n",
    "from snntorch import surrogate\n",
    "import snntorch.functional as SF\n",
    "import torch.nn.functional as F\n",
    "from torch.nn import NLLLoss, LogSoftmax\n",
    "\n",
    "from snntorch import spikegen\n",
    "\n",
    "from sklearn.linear_model import LinearRegression\n",
    "\n",
    "import matplotlib.pyplot as plt\n",
    "from matplotlib.colors import SymLogNorm\n",
    "import snntorch.spikeplot as splt\n",
    "import imageio\n",
    "\n",
    "from sklearn.metrics import ConfusionMatrixDisplay\n",
    "\n",
    "from itertools import accumulate\n",
    "\n",
    "from collections.abc import Iterable\n",
    "\n",
    "from copy import deepcopy\n",
    "\n",
    "device = 'cpu' if torch.backends.mps.is_available() else \"cpu\""
   ]
  },
  {
   "cell_type": "code",
   "execution_count": 2,
   "metadata": {},
   "outputs": [],
   "source": [
    "import visualize\n",
    "import dataset as ds"
   ]
  },
  {
   "cell_type": "code",
   "execution_count": 3,
   "metadata": {},
   "outputs": [
    {
     "data": {
      "text/plain": [
       "'cpu'"
      ]
     },
     "execution_count": 3,
     "metadata": {},
     "output_type": "execute_result"
    }
   ],
   "source": [
    "device"
   ]
  },
  {
   "cell_type": "markdown",
   "metadata": {},
   "source": [
    "## Constants"
   ]
  },
  {
   "cell_type": "code",
   "execution_count": 4,
   "metadata": {},
   "outputs": [],
   "source": [
    "nCublets = 1000\n",
    "nSensors = 100\n",
    "max_t = 20\n",
    "dt = 0.2\n",
    "timesteps = int(max_t/dt)"
   ]
  },
  {
   "cell_type": "code",
   "execution_count": 5,
   "metadata": {},
   "outputs": [],
   "source": [
    "labels_map = {\n",
    "  -1: \"unclassified\",\n",
    "   0: \"proton\",\n",
    "   1: \"kaon\",\n",
    "   2: \"pion\",\n",
    "   3: \"other\"\n",
    "}\n",
    "nClasses = len(labels_map)-1"
   ]
  },
  {
   "cell_type": "markdown",
   "metadata": {},
   "source": [
    "# SNN Classes"
   ]
  },
  {
   "cell_type": "markdown",
   "metadata": {},
   "source": [
    "## SNN Definition"
   ]
  },
  {
   "cell_type": "code",
   "execution_count": 6,
   "metadata": {},
   "outputs": [],
   "source": [
    "class Spiking_Net(nn.Module):\n",
    "    \"\"\"FCN with variable neural model and number of layers.\"\"\"\n",
    "\n",
    "    def __init__(self, net_desc, spikegen_fn):\n",
    "        super().__init__()\n",
    "        \n",
    "        self.n_neurons = net_desc[\"layers\"]\n",
    "        self.timesteps = net_desc[\"timesteps\"]\n",
    "        self.output = net_desc[\"output\"]\n",
    "\n",
    "        modules = []\n",
    "        for i_layer in range(1, len(self.n_neurons)):\n",
    "            modules.append(nn.Linear(in_features=self.n_neurons[i_layer-1], out_features=self.n_neurons[i_layer]))\n",
    "            if \"model\" in net_desc:\n",
    "                modules.append(net_desc[\"model\"](**net_desc[\"neuron_params\"][i_layer]))\n",
    "            else:\n",
    "                modules.append(net_desc[\"neuron_params\"][i_layer][0](**(net_desc[\"neuron_params\"][i_layer][1])))\n",
    "        self.network = nn.Sequential(*modules)\n",
    "\n",
    "        self.spikegen_fn = spikegen_fn\n",
    "\n",
    "    \n",
    "    def forward(self, data):\n",
    "        \"\"\"Forward pass for several time steps.\"\"\"\n",
    "\n",
    "        x = self.spikegen_fn(data)\n",
    "\n",
    "        # Initalize membrane potential\n",
    "        mem = []\n",
    "        for i, module in enumerate(self.network):\n",
    "            if i%2==1:\n",
    "                res = module.reset_mem()\n",
    "                if type(res) is tuple:\n",
    "                    mem.append(list(res))\n",
    "                else:\n",
    "                    mem.append([res])\n",
    "\n",
    "        # Record the final layer\n",
    "        spk_rec = []\n",
    "        mem_rec = []\n",
    "\n",
    "        # Loop over \n",
    "        spk = None\n",
    "        for step in range(self.timesteps):\n",
    "            for i_layer in range(len(self.network)//2):\n",
    "                if i_layer == 0:\n",
    "                    cur = self.network[2*i_layer](x[step])\n",
    "                else:\n",
    "                    cur = self.network[2*i_layer](spk)\n",
    "                \n",
    "                spk, *(mem[i_layer]) = self.network[2*i_layer+1](cur, *(mem[i_layer]))\n",
    "\n",
    "                if i_layer == len(self.network)//2-1:\n",
    "                    spk_rec.append(spk)\n",
    "                    mem_rec.append(mem[i_layer][-1])\n",
    "\n",
    "        if self.output == \"spike\":\n",
    "            return torch.stack(spk_rec, dim=0)\n",
    "        elif self.output == \"membrane\":\n",
    "            return torch.stack(mem_rec, dim=0)"
   ]
  },
  {
   "cell_type": "markdown",
   "metadata": {},
   "source": [
    "## Predictor Class \n",
    "To compare NN output with targets"
   ]
  },
  {
   "cell_type": "code",
   "execution_count": 35,
   "metadata": {},
   "outputs": [],
   "source": [
    "def predict_membrane(output):\n",
    "    prediction = output[-1].squeeze(1)\n",
    "    if len(prediction.shape) > 1:\n",
    "        prediction = prediction.mean(1)\n",
    "    return prediction\n",
    "\n",
    "def predict_spikefreq(output):\n",
    "    prediction = output.sum(0).mean(1) # sum spikes across time and average over the population\n",
    "    return prediction\n",
    "\n",
    "class Predictor():\n",
    "\n",
    "    def __init__(self, predict, transform=None, relative=True, population_sizes=None):\n",
    "        self.predict = predict\n",
    "        self.transform = transform\n",
    "        self.relative = relative\n",
    "        self.population_sizes = population_sizes\n",
    "\n",
    "    def _predict_singletask(self, output, targets):\n",
    "        prediction = self.predict(output)\n",
    "        if self.transform:\n",
    "            prediction, targets = self.transform(prediction), self.transform(targets)\n",
    "        accuracy = torch.abs(targets - prediction)\n",
    "        if self.relative:\n",
    "            accuracy /= targets\n",
    "        return prediction, torch.mean(accuracy, 0)\n",
    "    \n",
    "    def __call__(self, output, targets):\n",
    "        #check if multiple task must be handled\n",
    "        if len(targets.shape) == 1:\n",
    "            return self._predict_singletask(output, targets)\n",
    "        \n",
    "        # populations of different size\n",
    "        if isinstance(self.population_sizes, (list, np.ndarray)):\n",
    "            if sum(self.population_sizes) != output.shape[-1]:\n",
    "                raise ValueError(\"Population sizes must add up to last layer size!\")\n",
    "            if len(self.population_sizes) != targets.shape[-1]:\n",
    "                raise ValueError(\"Number of populations must be equal to number of tasks!\")\n",
    "            prediction = torch.zeros(size=targets.shape)\n",
    "            accuracy = torch.zeros(size=(targets.shape[1],))\n",
    "            chunks = list(accumulate([0]+list(self.population_sizes)))\n",
    "            for i, pop in enumerate(self.population_sizes):\n",
    "                prediction[:, i], accuracy[i] = \\\n",
    "                        self._predict_singletask(output[chunks[i]:chunks[i+1]], targets[:, i])\n",
    "            return  prediction, accuracy          \n",
    "\n",
    "        # populations of the same size\n",
    "        if isinstance(self.population_sizes, int):\n",
    "            output = output.reshape(output.shape[0], output.shape[1], self.population_sizes, -1)\n",
    "            if output.shape[-1] != targets.shape[-1]:\n",
    "                raise ValueError(\"Number of populations must be equal to number of tasks!\")\n",
    "        return self._predict_singletask(output, targets)"
   ]
  },
  {
   "cell_type": "markdown",
   "metadata": {},
   "source": [
    "## Trainer Class\n",
    "For training and testing on datasets"
   ]
  },
  {
   "cell_type": "code",
   "execution_count": 32,
   "metadata": {},
   "outputs": [],
   "source": [
    "class Trainer():\n",
    "\n",
    "    def __init__(self, net, loss_fn, optimizer, predict,\n",
    "                 train_dataset, val_dataset, test_dataset, task=\"Regression\", scheduler= None):\n",
    "        self.net = net\n",
    "        self.loss_fn = loss_fn\n",
    "        self.optimizer = optimizer\n",
    "        self.predict = predict \n",
    "        self.scheduler = scheduler   \n",
    "        self.datasets = {\"train\": train_dataset, \"validation\": val_dataset, \"test\": test_dataset}\n",
    "        self.task = task\n",
    "\n",
    "        self.current_epoch = 0\n",
    "        self.loss_hist = {\"train\": {}, \"validation\": {}, \"test\": {}}\n",
    "        self.acc_hist = {\"validation\": {}, \"test\": {}}\n",
    "\n",
    "\n",
    "    def test(self, dataset_name):\n",
    "        \n",
    "        # by default, computes accuracy on test dataset\n",
    "        try:\n",
    "            if dataset_name == \"validation\" or dataset_name == \"test\":\n",
    "                dataset = self.datasets[dataset_name]\n",
    "            else:\n",
    "                raise NameError(\"Unidentified dataset name. Please choose between \\\"validation\\\" or \\\"test\\\".\")\n",
    "        except NameError as n:\n",
    "            print(f\"Error: {n}\")\n",
    "\n",
    "        temp_loss = []\n",
    "        temp_acc = []\n",
    "\n",
    "        self.net.eval()\n",
    "        with torch.no_grad():\n",
    "            temp_loss = []\n",
    "            for data, targets in dataset:\n",
    "                data = data.to(device)\n",
    "                targets = targets.to(device)\n",
    "\n",
    "                # forward pass\n",
    "                output = self.net(data)\n",
    "                pred, acc = self.predict(output, targets)\n",
    "\n",
    "                # compute loss\n",
    "                loss = self.loss_fn(pred, targets)\n",
    "                temp_loss.append(loss.item())\n",
    "                temp_acc.append(acc.tolist())\n",
    "\n",
    "        self.loss_hist[dataset_name][self.current_epoch] = np.mean(temp_loss, axis=0)\n",
    "        self.acc_hist[dataset_name][self.current_epoch] = np.mean(np.array(temp_acc), axis=0)\n",
    "\n",
    "\n",
    "    def train(self, num_epochs, verbosity=1):\n",
    "\n",
    "        self.net.to(device)\n",
    "\n",
    "        # Validation\n",
    "        self.test(\"validation\")\n",
    "        if verbosity:\n",
    "            task_metric = \"Average Error\" if self.task == \"Regression\" else \"Accuracy\"\n",
    "            print(f\"Epoch {self.current_epoch}:\")\n",
    "            print(f\"Validation Loss = {self.loss_hist['validation'][self.current_epoch]}\")\n",
    "            print(f\"Validation {task_metric} = {self.acc_hist['validation'][self.current_epoch]}\")\n",
    "            print(\"\\n-------------------------------\\n\")\n",
    "\n",
    "        for epoch in tqdm(range(num_epochs), desc=\"Epoch\"):\n",
    "            self.net.train()\n",
    "            # Minibatch training loop\n",
    "            for data, targets in tqdm(self.datasets[\"train\"], desc=\"Batches\", leave=False):\n",
    "                data = data.to(device)\n",
    "                targets = targets.to(device)\n",
    "\n",
    "                # forward pass\n",
    "                output = self.net(data)\n",
    "                pred, _ = self.predict(output, targets)\n",
    "\n",
    "                # compute loss\n",
    "                loss_val = self.loss_fn(pred, targets)\n",
    "\n",
    "                # Gradient calculation + weight update\n",
    "                self.optimizer.zero_grad()\n",
    "                loss_val.backward()\n",
    "                self.optimizer.step()\n",
    "                if self.scheduler is not None:\n",
    "                    self.scheduler.step()\n",
    "\n",
    "                # Store loss history for future plotting\n",
    "                if self.current_epoch in self.loss_hist[\"train\"]:\n",
    "                    self.loss_hist[\"train\"][self.current_epoch].append(loss_val.item())\n",
    "                else:\n",
    "                    self.loss_hist[\"train\"][self.current_epoch] = [loss_val.item()]\n",
    "\n",
    "            self.current_epoch += 1\n",
    "\n",
    "            # Validation\n",
    "            self.test(\"validation\")\n",
    "\n",
    "            if verbosity:\n",
    "                print(f\"Epoch {self.current_epoch}:\")\n",
    "                print(f\"Validation Loss = {self.loss_hist['validation'][self.current_epoch]}\")\n",
    "                print(f\"Validation {task_metric} = {self.acc_hist['validation'][self.current_epoch]}\")\n",
    "                print(\"\\n-------------------------------\\n\")\n",
    "\n",
    "    \n",
    "    def plot_loss(self, validation=True, logscale=True):\n",
    "\n",
    "        loss = [l for l_per_epoch in self.loss_hist[\"train\"].values() for l in l_per_epoch]\n",
    "        fig = plt.figure(facecolor=\"w\", figsize=(4, 3))\n",
    "        plt.xlabel(\"Iteration\")\n",
    "        plt.ylabel(\"Loss\")\n",
    "        if logscale:\n",
    "            plt.yscale(\"log\")\n",
    "        plt.plot(loss, label=\"Training\")\n",
    "        if validation:\n",
    "            x = [i*len(self.datasets[\"train\"]) for i in self.loss_hist[\"validation\"]]\n",
    "            plt.plot(x, list(self.loss_hist[\"validation\"].values()), color='orange', marker='o', linestyle='dashed', label=\"Validation\")\n",
    "        \n",
    "        plt.legend(loc='upper right')\n",
    "        plt.show()\n",
    "\n",
    "    \n",
    "    def ConfusionMatrix(self, *args, **kwargs):\n",
    "\n",
    "        cm = MulticlassConfusionMatrix(*args, **kwargs)\n",
    "\n",
    "        self.net.eval()\n",
    "        with torch.no_grad():\n",
    "            for data, targets in self.datasets[\"test\"]:\n",
    "                data = data.to(device)\n",
    "                targets = targets.to(device)\n",
    "\n",
    "                # forward pass\n",
    "                output = self.net(data)\n",
    "\n",
    "                # calculate total accuracy\n",
    "                pred, acc = self.predict(output, targets)\n",
    "                cm.update(pred, targets)\n",
    "        \n",
    "        return cm\n",
    "    \n",
    "\n",
    "    def plot_pred_vs_target(self, nbins=50, title=\"\", logscale=False, select=None, *args, **kwargs):\n",
    "\n",
    "        self.net.eval()\n",
    "        all_targets = []\n",
    "        all_predictions = []\n",
    "        with torch.no_grad():\n",
    "            for data, targets in self.datasets[\"test\"]:\n",
    "                data = data.to(device)\n",
    "                targets = targets.to(device)\n",
    "\n",
    "                # forward pass\n",
    "                output = self.net(data)\n",
    "\n",
    "                # calculate total accuracy\n",
    "                pred, _ = self.predict(output, targets)\n",
    "\n",
    "                if self.predict.transform:\n",
    "                    targets = self.predict.transform(targets)\n",
    "                all_targets.append(targets)\n",
    "                all_predictions.append(pred)\n",
    "\n",
    "        all_targets = torch.cat(all_targets, dim=0).numpy()\n",
    "        all_predictions = torch.cat(all_predictions, dim=0).numpy()\n",
    "\n",
    "        if len(all_targets.shape) < 2:\n",
    "            all_targets = all_targets.unsqueeze(-1)\n",
    "            all_predictions = all_predictions.unsqueeze(-1)\n",
    "        n_tasks = all_targets.shape[-1]\n",
    "        if select is not None:\n",
    "            n_tasks = min(n_tasks, len(select))\n",
    "        else:\n",
    "            select = [i for i in range(n_tasks)]\n",
    "            \n",
    "        ncols = math.ceil(math.sqrt(n_tasks))\n",
    "        nrows = math.ceil(n_tasks / ncols)\n",
    "        \n",
    "        fig, axs = plt.subplots(ncols=ncols, nrows=nrows, facecolor=\"w\", figsize=(5*ncols, 4*nrows), constrained_layout=True)\n",
    "        if not isinstance(axs, np.ndarray):\n",
    "            axs = np.array([axs])\n",
    "            title = [title]\n",
    "\n",
    "        axs = axs.flatten()\n",
    "        for i in range(n_tasks):\n",
    "            if i%2 == 0: \n",
    "                axs[i].set_ylabel(\"Predictions\", fontsize=15) \n",
    "            axs[i].set_xlabel(\"Targets\", fontsize=15)\n",
    "                \n",
    "            axs[i].set_title(title[i], fontsize=15)\n",
    "            if logscale:\n",
    "                hist = axs[i].hist2d(all_targets[:, select[i]], all_predictions[:, select[i]],\n",
    "                                     nbins, norm=SymLogNorm(*args, **kwargs), cmap='viridis', \n",
    "                                     range=[[min(all_targets[:, select[i]].min(), all_predictions[:, select[i]].min()),\n",
    "                                             max(all_targets[:, select[i]].max(), all_predictions[:, select[i]].max())],\n",
    "                                             [min(all_targets[:, select[i]].min(), all_predictions[:, select[i]].min()),\n",
    "                                              max(all_targets[:, select[i]].max(), all_predictions[:, select[i]].max())]])\n",
    "            else:\n",
    "                hist = axs[i].hist2d(all_targets[:, select[i]], all_predictions[:, select[i]], nbins, cmap='viridis', \n",
    "                                     range=[[min(all_targets[:, select[i]].min(), all_predictions[:, select[i]].min()),\n",
    "                                             max(all_targets[:, select[i]].max(), all_predictions[:, select[i]].max())],\n",
    "                                             [min(all_targets[:, select[i]].min(), all_predictions[:, select[i]].min()),\n",
    "                                              max(all_targets[:, select[i]].max(), all_predictions[:, select[i]].max())]])\n",
    "\n",
    "            axs[i].tick_params(axis='both', which='major', labelsize=14)\n",
    "            axs[i].plot([0, 1e5], [0, 1e5], color='white', linewidth=1, linestyle='--')\n",
    "        for i in range(n_tasks, len(axs)):\n",
    "            fig.delaxes(axs[i])\n",
    "\n",
    "        # Add a color bar\n",
    "        if hist:\n",
    "            cbar = fig.colorbar(hist[3], ax=axs, orientation='vertical', fraction=0.02, pad=0.04)\n",
    "            cbar.set_label(\"Counts\")  # Customize as needed\n",
    "            \n",
    "        plt.show()\n",
    "\n",
    "        fig, axs = plt.subplots(ncols=ncols, nrows=nrows, facecolor=\"w\", figsize=(5*ncols, 4*nrows), constrained_layout=True)\n",
    "        if not isinstance(axs, np.ndarray):\n",
    "            axs = np.array([axs])\n",
    "            title = [title]\n",
    "\n",
    "        axs = axs.flatten()\n",
    "        for i in range(n_tasks):\n",
    "            if i%2 == 0: \n",
    "                axs[i].set_ylabel(\"Targets\", fontsize=15)\n",
    "            axs[i].set_xlabel(\"Residuals\", fontsize=15)\n",
    "\n",
    "            axs[i].set_title(title[i], fontsize=15)\n",
    "            axs[i].grid(True, linestyle='--', alpha=0.6)\n",
    "            axs[i].axvline(0, color='black', linewidth=1, linestyle='--', alpha=0.5)\n",
    "            axs[i].spines['top'].set_visible(False)\n",
    "            axs[i].spines['right'].set_visible(False)\n",
    "            if logscale:\n",
    "                axs[i].set_yscale('log')\n",
    "                \n",
    "            axs[i].tick_params(axis='both', which='major', labelsize=12)\n",
    "            hist = axs[i].hist((all_targets[:, select[i]] - all_predictions[:, select[i]]), nbins, edgecolor='black', alpha=0.7)\n",
    "            \n",
    "        for i in range(n_tasks, len(axs)):\n",
    "            fig.delaxes(axs[i])\n",
    "\n",
    "        plt.show()\n",
    "\n",
    "\n",
    "    def show_results(self, only_errors=False, *args, **kwargs):\n",
    "        if only_errors:\n",
    "            return self.acc_hist['test'][self.current_epoch].mean()\n",
    "        else:\n",
    "            print(f\"Test loss: {self.loss_hist['test'][self.current_epoch]}\")\n",
    "            print(f\"Test relative error: {self.acc_hist['test'][self.current_epoch]*100}%\")\n",
    "            self.plot_loss()\n",
    "            self.plot_pred_vs_target(*args, **kwargs)\n",
    "        \n"
   ]
  },
  {
   "cell_type": "markdown",
   "metadata": {},
   "source": [
    "## Network Descriptions and Spike Encodings"
   ]
  },
  {
   "cell_type": "code",
   "execution_count": 33,
   "metadata": {},
   "outputs": [],
   "source": [
    "# Network Descriptions\n",
    "\n",
    "population = 80\n",
    "\n",
    "net_desc = {\n",
    "    \"layers\" : [400, 50, population],\n",
    "    \"timesteps\": 100,\n",
    "    \"neuron_params\" : {\n",
    "                1: [snn.Leaky, \n",
    "                    {\"beta\" : 1.0,\n",
    "                    \"learn_beta\": True,\n",
    "                    \"threshold\" : 1.0,\n",
    "                    \"learn_threshold\": False,\n",
    "                    \"spike_grad\": surrogate.atan(),\n",
    "                    }],\n",
    "                2: [snn.Leaky, \n",
    "                    {\"beta\" : 1.0,\n",
    "                    \"learn_beta\": True,\n",
    "                    \"threshold\" : 1.0,\n",
    "                    \"learn_threshold\": False,\n",
    "                    \"spike_grad\": surrogate.atan(),\n",
    "                    }],\n",
    "                3: [snn.Leaky, \n",
    "                    {\"beta\" : 1.0,\n",
    "                    \"learn_beta\": True,\n",
    "                    \"threshold\" : 1.0e20,\n",
    "                    \"learn_threshold\": False, \n",
    "                    \"spike_grad\": surrogate.atan(),\n",
    "                    }]\n",
    "                }\n",
    "    }\n",
    "\n",
    "net_desc_membrane = deepcopy(net_desc)\n",
    "net_desc_membrane[\"output\"] = \"membrane\"\n",
    "\n",
    "net_desc_spikefreq = deepcopy(net_desc)\n",
    "net_desc_spikefreq[\"output\"] = \"spike\"\n",
    "net_desc_spikefreq[\"neuron_params\"][len(net_desc['neuron_params'])][1][\"threshold\"] = 1.0\n",
    "net_desc_spikefreq[\"neuron_params\"][len(net_desc['neuron_params'])][1][\"learn_threshold\"] = True\n",
    "\n",
    "\n",
    "# Spike Generation\n",
    "\n",
    "def _spikegen(data):\n",
    "    spike_data = data.transpose(0,1) \n",
    "    spike_train = torch.where(spike_data > 300, torch.tensor(1), torch.tensor(0)).to(torch.float32) \n",
    "    return spike_train\n",
    "\n",
    "def spikegen_multi(data, multiplicity=4):\n",
    "    og_shape = data.shape\n",
    "    spike_data = torch.zeros(og_shape[1], og_shape[0], multiplicity*og_shape[2])\n",
    "    for i in range(multiplicity):\n",
    "        condition = data > np.power(10, i+2)\n",
    "        batch_idx, time_idx, sensor_idx = torch.nonzero(condition, as_tuple=True)\n",
    "        spike_data[time_idx, batch_idx, multiplicity*sensor_idx+i] = 1\n",
    "\n",
    "    return spike_data"
   ]
  },
  {
   "cell_type": "markdown",
   "metadata": {},
   "source": [
    "## Loss Functions"
   ]
  },
  {
   "cell_type": "code",
   "execution_count": 34,
   "metadata": {},
   "outputs": [],
   "source": [
    "class multi_MSELoss(torch.nn.Module):\n",
    "\n",
    "    def __init__(self, reduction: str = \"mean\", weights : torch.tensor = torch.ones(1),) -> None:\n",
    "        super(multi_MSELoss, self).__init__()\n",
    "        self.reduction = reduction\n",
    "        self.weights = weights\n",
    "\n",
    "    def forward(self, input: torch.Tensor, target: torch.Tensor) -> torch.Tensor:\n",
    "        \n",
    "        if len(target.shape) < 2:\n",
    "            target = target.unsqueeze(-1)\n",
    "\n",
    "        losses = torch.zeros(target.shape[-1])\n",
    "        for i in range(target.shape[-1]):\n",
    "            if i == 0 or i == 3:\n",
    "                losses[i] = F.l1_loss(input[:, i], target[:, i], reduction=self.reduction)\n",
    "            else:\n",
    "                losses[i] = F.mse_loss(input[:, i], target[:, i], reduction=self.reduction)\n",
    "        \n",
    "        return (self.weights*losses).sum()"
   ]
  },
  {
   "cell_type": "markdown",
   "metadata": {},
   "source": [
    "## Dataset Creation"
   ]
  },
  {
   "cell_type": "code",
   "execution_count": 24,
   "metadata": {},
   "outputs": [],
   "source": [
    "dataset = ds.build_dataset(\"../Data/PrimaryOnly/Uniform/\", max_files=100, primary_only=True,\n",
    "                           target=[\"energy\",\"centroid\",\"dispersion\"])"
   ]
  },
  {
   "cell_type": "markdown",
   "metadata": {},
   "source": [
    "# Energy and Position"
   ]
  },
  {
   "cell_type": "code",
   "execution_count": 25,
   "metadata": {},
   "outputs": [],
   "source": [
    "dataset.transform = lambda x: (x[0], ds.to_tensor_and_dtype([np.log10(x[1][0]), *x[1][1]], torch.float32))\n",
    "train_dataset, test_dataset, val_dataset = ds.build_loaders(dataset, (0.7, 0.15), shuffle=True, num_workers=0)"
   ]
  },
  {
   "cell_type": "code",
   "execution_count": 26,
   "metadata": {},
   "outputs": [
    {
     "data": {
      "image/png": "[encoded data removed]",
      "text/plain": [
       "<Figure size 1500x500 with 1 Axes>"
      ]
     },
     "metadata": {},
     "output_type": "display_data"
    }
   ],
   "source": [
    "# Extract targets from the train_dataset\n",
    "targets = []\n",
    "for data in dataset:\n",
    "    targets.append(data[1][3])\n",
    "\n",
    "# Plot the distributions\n",
    "fig = plt.figure(figsize=(15, 5))\n",
    "counts, bins, patches = plt.hist(targets, bins=50, edgecolor='black')\n",
    "\n",
    "# Normalize counts for colormap\n",
    "norm = plt.Normalize(counts.min(), counts.max())\n",
    "cmap = plt.get_cmap('coolwarm')\n",
    "\n",
    "for count, patch in zip(counts, patches):\n",
    "    color = cmap(norm(count))\n",
    "    patch.set_facecolor(color)\n",
    "\n",
    "plt.title(f'Target Distribution')\n",
    "plt.xlabel('Value')\n",
    "plt.ylabel('Frequency')\n",
    "plt.grid(True, linestyle='--', alpha=0.6)\n",
    "\n",
    "plt.tight_layout()\n",
    "plt.show()"
   ]
  },
  {
   "cell_type": "code",
   "execution_count": 27,
   "metadata": {},
   "outputs": [],
   "source": [
    "def build_network(params_values):\n",
    "    population = 80\n",
    "    for row in params_values:\n",
    "        net_desc = {}\n",
    "        l,N = row[0], row[1]\n",
    "        net_desc[\"layers\"] = [400] + [N for i in range(l)] + [population]\n",
    "        net_desc['timesteps'] = 100\n",
    "        net_desc[\"neuron_params\"] = {i:  [snn.Leaky, \n",
    "                        {\"beta\" : 1.0,\n",
    "                        \"learn_beta\": True,\n",
    "                        \"threshold\" : 1.0,\n",
    "                        \"learn_threshold\": True,\n",
    "                        \"spike_grad\": surrogate.atan(),\n",
    "                        }] for i in range(1, l+2)}\n",
    "        net_desc[\"output\"] = \"spike\"\n",
    "    return net_desc\n",
    "\n",
    "net_desc_spikefreq = build_network(np.array([[2, 120]]))"
   ]
  },
  {
   "cell_type": "code",
   "execution_count": 28,
   "metadata": {},
   "outputs": [
    {
     "name": "stdout",
     "output_type": "stream",
     "text": [
      "Epoch 0:\n",
      "Validation Loss = 26.350865681966145\n",
      "Validation Accuracy = [0.73891757 0.66279372 0.63001897 0.60883568]\n",
      "\n",
      "-------------------------------\n",
      "\n"
     ]
    },
    {
     "name": "stderr",
     "output_type": "stream",
     "text": [
      "Epoch:  20%|██        | 1/5 [00:20<01:23, 20.82s/it]"
     ]
    },
    {
     "name": "stdout",
     "output_type": "stream",
     "text": [
      "Epoch 1:\n",
      "Validation Loss = 2.5451808611551923\n",
      "Validation Accuracy = [0.03232946 0.35113112 0.39884964 0.06748464]\n",
      "\n",
      "-------------------------------\n",
      "\n"
     ]
    },
    {
     "name": "stderr",
     "output_type": "stream",
     "text": [
      "Epoch:  40%|████      | 2/5 [00:41<01:02, 20.92s/it]"
     ]
    },
    {
     "name": "stdout",
     "output_type": "stream",
     "text": [
      "Epoch 2:\n",
      "Validation Loss = 1.8907058768802218\n",
      "Validation Accuracy = [0.02621305 0.21949182 0.38298081 0.05339919]\n",
      "\n",
      "-------------------------------\n",
      "\n"
     ]
    },
    {
     "name": "stderr",
     "output_type": "stream",
     "text": [
      "Epoch:  60%|██████    | 3/5 [01:03<00:42, 21.09s/it]"
     ]
    },
    {
     "name": "stdout",
     "output_type": "stream",
     "text": [
      "Epoch 3:\n",
      "Validation Loss = 1.562168672349718\n",
      "Validation Accuracy = [0.02804216 0.22376925 0.29254575 0.05220359]\n",
      "\n",
      "-------------------------------\n",
      "\n"
     ]
    },
    {
     "name": "stderr",
     "output_type": "stream",
     "text": [
      "Epoch:  80%|████████  | 4/5 [01:24<00:21, 21.26s/it]"
     ]
    },
    {
     "name": "stdout",
     "output_type": "stream",
     "text": [
      "Epoch 4:\n",
      "Validation Loss = 1.532096677356296\n",
      "Validation Accuracy = [0.02467018 0.22634092 0.24888195 0.04270201]\n",
      "\n",
      "-------------------------------\n",
      "\n"
     ]
    },
    {
     "name": "stderr",
     "output_type": "stream",
     "text": [
      "Epoch: 100%|██████████| 5/5 [01:46<00:00, 21.31s/it]"
     ]
    },
    {
     "name": "stdout",
     "output_type": "stream",
     "text": [
      "Epoch 5:\n",
      "Validation Loss = 1.7919026374816895\n",
      "Validation Accuracy = [0.02330877 0.21233015 0.2773039  0.04184228]\n",
      "\n",
      "-------------------------------\n",
      "\n"
     ]
    },
    {
     "name": "stderr",
     "output_type": "stream",
     "text": [
      "\n"
     ]
    }
   ],
   "source": [
    "trials = 1\n",
    "num_epochs = 5\n",
    "low_err = 1E3\n",
    "best_model = None\n",
    "errors = []\n",
    "\n",
    "for i in range(trials):\n",
    "    net_Epos_spk = Spiking_Net(net_desc_spikefreq, lambda x: spikegen_multi(x,4))\n",
    "    Pred_Epos_spk = Predictor(predict_spikefreq, population_sizes=int(population/4))\n",
    "    loss_Epos = multi_MSELoss(weights=torch.tensor([1,1,1,1]))\n",
    "    opt_Epos_spk = torch.optim.Adam(net_Epos_spk.parameters(), lr=1e-3, betas=(0.9, 0.999), weight_decay=1e-3)\n",
    "    sche_Epos_spk = torch.optim.lr_scheduler.ExponentialLR(opt_Epos_spk, gamma=0.7)\n",
    "    train_Epos_spk = Trainer(net_Epos_spk, loss_Epos, opt_Epos_spk, Pred_Epos_spk,\n",
    "                    train_dataset, val_dataset, test_dataset,sche_Epos_spk)\n",
    "    \n",
    "    train_Epos_spk.train(num_epochs)\n",
    "    \n",
    "    train_Epos_spk.test(\"test\")\n",
    "    test_err = train_Epos_spk.show_results( only_errors = True )\n",
    "\n",
    "    errors.append(test_err)\n",
    "    if test_err < low_err:\n",
    "        low_err = test_err\n",
    "        best_model = deepcopy(train_Epos_spk)"
   ]
  },
  {
   "cell_type": "code",
   "execution_count": 29,
   "metadata": {},
   "outputs": [
    {
     "data": {
      "text/plain": [
       "[0.13861304781296185]"
      ]
     },
     "execution_count": 29,
     "metadata": {},
     "output_type": "execute_result"
    }
   ],
   "source": [
    "errors"
   ]
  },
  {
   "cell_type": "code",
   "execution_count": 30,
   "metadata": {},
   "outputs": [
    {
     "name": "stdout",
     "output_type": "stream",
     "text": [
      "Test loss: 1.7537788020239935\n",
      "Test relative error: [ 2.33664324 20.65553192 28.20489688  4.34234081]%\n"
     ]
    },
    {
     "data": {
      "image/png": "[encoded data removed]",
      "text/plain": [
       "<Figure size 400x300 with 1 Axes>"
      ]
     },
     "metadata": {},
     "output_type": "display_data"
    },
    {
     "data": {
      "image/png": "[encoded data removed]",
      "text/plain": [
       "<Figure size 1000x800 with 5 Axes>"
      ]
     },
     "metadata": {},
     "output_type": "display_data"
    },
    {
     "data": {
      "image/png": "[encoded data removed]",
      "text/plain": [
       "<Figure size 1000x800 with 4 Axes>"
      ]
     },
     "metadata": {},
     "output_type": "display_data"
    }
   ],
   "source": [
    "best_model.test(\"test\")\n",
    "best_model.show_results( only_errors=False, nbins=50, title=[\"Log(Energy[MeV])\", \" $\\sigma_X$ [Cell idx.]\", \" $\\sigma_Y$  [Cell idx.]\", \"$\\sigma_Z$ [Cell idx.]\"],  logscale=False)"
   ]
  },
  {
   "cell_type": "code",
   "execution_count": 52,
   "metadata": {},
   "outputs": [
    {
     "name": "stdout",
     "output_type": "stream",
     "text": [
      "Test absolute error: [0.0775148  0.5672039  0.54955173 0.36805364]\n"
     ]
    }
   ],
   "source": [
    "best_model.predict.relative = False\n",
    "best_model.test(\"test\")\n",
    "print(f\"Test absolute error: {best_model.acc_hist['test'][best_model.current_epoch]}\")"
   ]
  },
  {
   "cell_type": "code",
   "execution_count": 57,
   "metadata": {},
   "outputs": [],
   "source": [
    "best_model.predict.transform = None"
   ]
  },
  {
   "cell_type": "code",
   "execution_count": 69,
   "metadata": {},
   "outputs": [
    {
     "name": "stdout",
     "output_type": "stream",
     "text": [
      "Test loss: 12161.924522569445\n",
      "Test relative error: [20.16652584 26.89441995 28.26170064 12.09108965]%\n"
     ]
    },
    {
     "data": {
      "image/png": "[encoded data removed]",
      "text/plain": [
       "<Figure size 400x300 with 1 Axes>"
      ]
     },
     "metadata": {},
     "output_type": "display_data"
    },
    {
     "data": {
      "image/png": "[encoded data removed]",
      "text/plain": [
       "<Figure size 500x400 with 2 Axes>"
      ]
     },
     "metadata": {},
     "output_type": "display_data"
    },
    {
     "data": {
      "image/png": "[encoded data removed]",
      "text/plain": [
       "<Figure size 500x400 with 1 Axes>"
      ]
     },
     "metadata": {},
     "output_type": "display_data"
    }
   ],
   "source": [
    "def antitransform(x):\n",
    "    a = x.clone() \n",
    "    a[:, 0] = torch.pow(10, a[:,0])\n",
    "    return a\n",
    "best_model.predict.transform = antitransform\n",
    "best_model.predict.relative = True\n",
    "\n",
    "best_model.test(\"test\")\n",
    "best_model.show_results(nbins=50, logscale=True, linthresh=1, title=\"Total Energy [MeV]\", select=[0])"
   ]
  },
  {
   "cell_type": "code",
   "execution_count": 71,
   "metadata": {},
   "outputs": [
    {
     "name": "stdout",
     "output_type": "stream",
     "text": [
      "Test absolute error: [1.85862824e+03 5.74132664e-01 5.92744356e-01 4.23389214e-01]\n"
     ]
    }
   ],
   "source": [
    "best_model.predict.relative = False\n",
    "best_model.test(\"test\")\n",
    "print(f\"Test absolute error: {best_model.acc_hist['test'][best_model.current_epoch]}\")"
   ]
  },
  {
   "cell_type": "markdown",
   "metadata": {},
   "source": [
    "## Network Archit Optim"
   ]
  },
  {
   "cell_type": "code",
   "execution_count": 20,
   "metadata": {},
   "outputs": [],
   "source": [
    "from scipy.stats import norm\n",
    "from scipy.optimize import minimize\n",
    "from sklearn.gaussian_process import GaussianProcessRegressor\n",
    "from sklearn.gaussian_process.kernels import RBF, DotProduct\n",
    "\n",
    "def expected_improvement(X, X_sample, Y_sample, gpr, xi=0.75):\n",
    "    '''\n",
    "    Computes the EI at points X based on existing samples X_sample\n",
    "    and Y_sample using a Gaussian process surrogate model.\n",
    "    \n",
    "    Args:\n",
    "        X: Points at which EI shall be computed (m x d).\n",
    "        X_sample: Sample locations (n x d).\n",
    "        Y_sample: Sample values (n x 1).\n",
    "        gpr: A GaussianProcessRegressor fitted to samples.\n",
    "        xi: Exploitation-exploration trade-off parameter.\n",
    "    \n",
    "    Returns:\n",
    "        Expected improvements at points X.\n",
    "    '''\n",
    "    mu, sigma = gpr.predict(X, return_std=True)\n",
    "    mu_sample = gpr.predict(X_sample)\n",
    "\n",
    "    sigma = sigma.reshape(-1, 1)\n",
    "    \n",
    "    # Needed for noise-based model,\n",
    "    # otherwise use np.max(Y_sample).\n",
    "    # See also section 2.4 in [1]\n",
    "    mu_sample_opt = np.max(mu_sample)\n",
    "\n",
    "    with np.errstate(divide='warn'):\n",
    "        imp = mu - mu_sample_opt - xi\n",
    "        Z = imp / sigma\n",
    "        ei = imp * norm.cdf(Z) + sigma * norm.pdf(Z)\n",
    "        ei[sigma == 0.0] = 0.0\n",
    "\n",
    "    return ei\n",
    "\n",
    "def propose_location(acquisition, X_sample, Y_sample, gpr, bounds, n_restarts=25):\n",
    "    '''\n",
    "    Proposes the next sampling point by optimizing the acquisition function.\n",
    "    \n",
    "    Args:\n",
    "        acquisition: Acquisition function.\n",
    "        X_sample: Sample locations (n x d).\n",
    "        Y_sample: Sample values (n x 1).\n",
    "        gpr: A GaussianProcessRegressor fitted to samples.\n",
    "\n",
    "    Returns:\n",
    "        Location of the acquisition function maximum.\n",
    "    '''\n",
    "    dim = X_sample.shape[1]\n",
    "    min_val = 1\n",
    "    min_x = None\n",
    "    \n",
    "    def min_obj(X):\n",
    "        # Minimization objective is the negative acquisition function\n",
    "        return -acquisition(X.reshape(-1, dim), X_sample, Y_sample, gpr)\n",
    "    \n",
    "    # Find the best optimum by starting from n_restart different random points.\n",
    "    for x0 in np.random.uniform(bounds[:, 0], bounds[:, 1], size=(n_restarts, dim)):\n",
    "        res = minimize(min_obj, x0=np.array(x0, dtype=int), bounds=bounds, method='L-BFGS-B')       \n",
    "        if res.fun < min_val:\n",
    "            min_val = res.fun\n",
    "            min_x = res.x           \n",
    "            \n",
    "    return min_x.reshape(-1, 1)"
   ]
  },
  {
   "cell_type": "code",
   "execution_count": 21,
   "metadata": {},
   "outputs": [
    {
     "data": {
      "text/plain": [
       "{'layers': [400, 50, 80],\n",
       " 'timesteps': 100,\n",
       " 'neuron_params': {1: [snntorch._neurons.leaky.Leaky,\n",
       "   {'beta': 1.0,\n",
       "    'learn_beta': True,\n",
       "    'threshold': 1.0,\n",
       "    'learn_threshold': True,\n",
       "    'spike_grad': <function snntorch.surrogate.atan.<locals>.inner(x)>}],\n",
       "  2: [snntorch._neurons.leaky.Leaky,\n",
       "   {'beta': 1.0,\n",
       "    'learn_beta': True,\n",
       "    'threshold': 1.0,\n",
       "    'learn_threshold': True,\n",
       "    'spike_grad': <function snntorch.surrogate.atan.<locals>.inner(x)>}]},\n",
       " 'output': 'spike'}"
      ]
     },
     "execution_count": 21,
     "metadata": {},
     "output_type": "execute_result"
    }
   ],
   "source": [
    "def build_network(params_values):\n",
    "    population = 80\n",
    "    for row in params_values:\n",
    "        net_desc = {}\n",
    "        l,N = row[0], row[1]\n",
    "        net_desc[\"layers\"] = [400] + [N for i in range(l)] + [population]\n",
    "        net_desc['timesteps'] = 100\n",
    "        net_desc[\"neuron_params\"] = {i:  [snn.Leaky, \n",
    "                        {\"beta\" : 1.0,\n",
    "                        \"learn_beta\": True,\n",
    "                        \"threshold\" : 1.0,\n",
    "                        \"learn_threshold\": True,\n",
    "                        \"spike_grad\": surrogate.atan(),\n",
    "                        }] for i in range(1, l+2)}\n",
    "        net_desc[\"output\"] = \"spike\"\n",
    "    return net_desc\n",
    "\n",
    "build_network(np.array([[1, 50]]))"
   ]
  },
  {
   "cell_type": "code",
   "execution_count": 22,
   "metadata": {},
   "outputs": [
    {
     "name": "stdout",
     "output_type": "stream",
     "text": [
      "Epoch 0:\n",
      "Validation Loss = 4.513463836246067\n",
      "Validation Accuracy = [0.15765398 0.53383079 0.3594636  0.45304342]\n",
      "\n",
      "-------------------------------\n",
      "\n"
     ]
    },
    {
     "name": "stderr",
     "output_type": "stream",
     "text": [
      "Epoch:  20%|██        | 1/5 [00:21<01:26, 21.63s/it]"
     ]
    },
    {
     "name": "stdout",
     "output_type": "stream",
     "text": [
      "Epoch 1:\n",
      "Validation Loss = 2.459446687168545\n",
      "Validation Accuracy = [0.02621225 0.38226788 0.36486904 0.19529875]\n",
      "\n",
      "-------------------------------\n",
      "\n"
     ]
    },
    {
     "name": "stderr",
     "output_type": "stream",
     "text": [
      "Epoch:  40%|████      | 2/5 [00:43<01:04, 21.55s/it]"
     ]
    },
    {
     "name": "stdout",
     "output_type": "stream",
     "text": [
      "Epoch 2:\n",
      "Validation Loss = 2.2020455572340225\n",
      "Validation Accuracy = [0.02269798 0.27219206 0.26900708 0.15653805]\n",
      "\n",
      "-------------------------------\n",
      "\n"
     ]
    },
    {
     "name": "stderr",
     "output_type": "stream",
     "text": [
      "Epoch:  60%|██████    | 3/5 [01:04<00:42, 21.47s/it]"
     ]
    },
    {
     "name": "stdout",
     "output_type": "stream",
     "text": [
      "Epoch 3:\n",
      "Validation Loss = 2.261461281776428\n",
      "Validation Accuracy = [0.02362162 0.28805841 0.30554268 0.22547561]\n",
      "\n",
      "-------------------------------\n",
      "\n"
     ]
    },
    {
     "name": "stderr",
     "output_type": "stream",
     "text": [
      "Epoch:  80%|████████  | 4/5 [01:25<00:21, 21.37s/it]"
     ]
    },
    {
     "name": "stdout",
     "output_type": "stream",
     "text": [
      "Epoch 4:\n",
      "Validation Loss = 2.071801686286926\n",
      "Validation Accuracy = [0.02226441 0.32389839 0.32678048 0.14986781]\n",
      "\n",
      "-------------------------------\n",
      "\n"
     ]
    },
    {
     "name": "stderr",
     "output_type": "stream",
     "text": [
      "Epoch: 100%|██████████| 5/5 [01:46<00:00, 21.38s/it]"
     ]
    },
    {
     "name": "stdout",
     "output_type": "stream",
     "text": [
      "Epoch 5:\n",
      "Validation Loss = 2.007261456383599\n",
      "Validation Accuracy = [0.02861035 0.28057548 0.28519665 0.14383908]\n",
      "\n",
      "-------------------------------\n",
      "\n"
     ]
    },
    {
     "name": "stderr",
     "output_type": "stream",
     "text": [
      "\n"
     ]
    },
    {
     "name": "stdout",
     "output_type": "stream",
     "text": [
      "[4.99862093]\n",
      "Epoch 0:\n",
      "Validation Loss = 12.825216505262587\n",
      "Validation Accuracy = [0.14088616 0.4509631  1.63703036 0.4466096 ]\n",
      "\n",
      "-------------------------------\n",
      "\n"
     ]
    },
    {
     "name": "stderr",
     "output_type": "stream",
     "text": [
      "Epoch:  20%|██        | 1/5 [00:21<01:26, 21.54s/it]"
     ]
    },
    {
     "name": "stdout",
     "output_type": "stream",
     "text": [
      "Epoch 1:\n",
      "Validation Loss = 2.6844240056143867\n",
      "Validation Accuracy = [0.03115665 0.32098902 0.31902035 0.21761636]\n",
      "\n",
      "-------------------------------\n",
      "\n"
     ]
    },
    {
     "name": "stderr",
     "output_type": "stream",
     "text": [
      "Epoch:  40%|████      | 2/5 [00:43<01:05, 21.94s/it]"
     ]
    },
    {
     "name": "stdout",
     "output_type": "stream",
     "text": [
      "Epoch 2:\n",
      "Validation Loss = 2.322561271985372\n",
      "Validation Accuracy = [0.02466505 0.33846002 0.31239092 0.17051855]\n",
      "\n",
      "-------------------------------\n",
      "\n"
     ]
    },
    {
     "name": "stderr",
     "output_type": "stream",
     "text": [
      "Epoch:  40%|████      | 2/5 [00:48<01:13, 24.36s/it]\n"
     ]
    },
    {
     "ename": "KeyboardInterrupt",
     "evalue": "",
     "output_type": "error",
     "traceback": [
      "\u001b[0;31m---------------------------------------------------------------------------\u001b[0m",
      "\u001b[0;31mKeyboardInterrupt\u001b[0m                         Traceback (most recent call last)",
      "Cell \u001b[0;32mIn[22], line 22\u001b[0m\n\u001b[1;32m     19\u001b[0m sche \u001b[38;5;241m=\u001b[39m torch\u001b[38;5;241m.\u001b[39moptim\u001b[38;5;241m.\u001b[39mlr_scheduler\u001b[38;5;241m.\u001b[39mExponentialLR(opt, gamma\u001b[38;5;241m=\u001b[39m\u001b[38;5;241m0.9\u001b[39m)\n\u001b[1;32m     20\u001b[0m train_net \u001b[38;5;241m=\u001b[39m Trainer(net, loss, opt, pred_spk,\n\u001b[1;32m     21\u001b[0m                     train_dataset, val_dataset, test_dataset, sche)\n\u001b[0;32m---> 22\u001b[0m \u001b[43mtrain_net\u001b[49m\u001b[38;5;241;43m.\u001b[39;49m\u001b[43mtrain\u001b[49m\u001b[43m(\u001b[49m\u001b[43mnum_epochs\u001b[49m\u001b[43m)\u001b[49m\n\u001b[1;32m     24\u001b[0m train_net\u001b[38;5;241m.\u001b[39mtest(\u001b[38;5;124m\"\u001b[39m\u001b[38;5;124mtest\u001b[39m\u001b[38;5;124m\"\u001b[39m)\n\u001b[1;32m     25\u001b[0m \u001b[38;5;28mprint\u001b[39m(np\u001b[38;5;241m.\u001b[39marray([\u001b[38;5;241m1\u001b[39m\u001b[38;5;241m/\u001b[39mtrain_net\u001b[38;5;241m.\u001b[39mshow_results(only_errors\u001b[38;5;241m=\u001b[39m\u001b[38;5;28;01mTrue\u001b[39;00m)]))\n",
      "Cell \u001b[0;32mIn[8], line 73\u001b[0m, in \u001b[0;36mTrainer.train\u001b[0;34m(self, num_epochs, verbosity)\u001b[0m\n\u001b[1;32m     70\u001b[0m targets \u001b[38;5;241m=\u001b[39m targets\u001b[38;5;241m.\u001b[39mto(device)\n\u001b[1;32m     72\u001b[0m \u001b[38;5;66;03m# forward pass\u001b[39;00m\n\u001b[0;32m---> 73\u001b[0m output \u001b[38;5;241m=\u001b[39m \u001b[38;5;28;43mself\u001b[39;49m\u001b[38;5;241;43m.\u001b[39;49m\u001b[43mnet\u001b[49m\u001b[43m(\u001b[49m\u001b[43mdata\u001b[49m\u001b[43m)\u001b[49m\n\u001b[1;32m     74\u001b[0m pred, _ \u001b[38;5;241m=\u001b[39m \u001b[38;5;28mself\u001b[39m\u001b[38;5;241m.\u001b[39mpredict(output, targets)\n\u001b[1;32m     76\u001b[0m \u001b[38;5;66;03m# compute loss\u001b[39;00m\n",
      "File \u001b[0;32m/opt/homebrew/lib/python3.11/site-packages/torch/nn/modules/module.py:1511\u001b[0m, in \u001b[0;36mModule._wrapped_call_impl\u001b[0;34m(self, *args, **kwargs)\u001b[0m\n\u001b[1;32m   1509\u001b[0m     \u001b[38;5;28;01mreturn\u001b[39;00m \u001b[38;5;28mself\u001b[39m\u001b[38;5;241m.\u001b[39m_compiled_call_impl(\u001b[38;5;241m*\u001b[39margs, \u001b[38;5;241m*\u001b[39m\u001b[38;5;241m*\u001b[39mkwargs)  \u001b[38;5;66;03m# type: ignore[misc]\u001b[39;00m\n\u001b[1;32m   1510\u001b[0m \u001b[38;5;28;01melse\u001b[39;00m:\n\u001b[0;32m-> 1511\u001b[0m     \u001b[38;5;28;01mreturn\u001b[39;00m \u001b[38;5;28;43mself\u001b[39;49m\u001b[38;5;241;43m.\u001b[39;49m\u001b[43m_call_impl\u001b[49m\u001b[43m(\u001b[49m\u001b[38;5;241;43m*\u001b[39;49m\u001b[43margs\u001b[49m\u001b[43m,\u001b[49m\u001b[43m \u001b[49m\u001b[38;5;241;43m*\u001b[39;49m\u001b[38;5;241;43m*\u001b[39;49m\u001b[43mkwargs\u001b[49m\u001b[43m)\u001b[49m\n",
      "File \u001b[0;32m/opt/homebrew/lib/python3.11/site-packages/torch/nn/modules/module.py:1520\u001b[0m, in \u001b[0;36mModule._call_impl\u001b[0;34m(self, *args, **kwargs)\u001b[0m\n\u001b[1;32m   1515\u001b[0m \u001b[38;5;66;03m# If we don't have any hooks, we want to skip the rest of the logic in\u001b[39;00m\n\u001b[1;32m   1516\u001b[0m \u001b[38;5;66;03m# this function, and just call forward.\u001b[39;00m\n\u001b[1;32m   1517\u001b[0m \u001b[38;5;28;01mif\u001b[39;00m \u001b[38;5;129;01mnot\u001b[39;00m (\u001b[38;5;28mself\u001b[39m\u001b[38;5;241m.\u001b[39m_backward_hooks \u001b[38;5;129;01mor\u001b[39;00m \u001b[38;5;28mself\u001b[39m\u001b[38;5;241m.\u001b[39m_backward_pre_hooks \u001b[38;5;129;01mor\u001b[39;00m \u001b[38;5;28mself\u001b[39m\u001b[38;5;241m.\u001b[39m_forward_hooks \u001b[38;5;129;01mor\u001b[39;00m \u001b[38;5;28mself\u001b[39m\u001b[38;5;241m.\u001b[39m_forward_pre_hooks\n\u001b[1;32m   1518\u001b[0m         \u001b[38;5;129;01mor\u001b[39;00m _global_backward_pre_hooks \u001b[38;5;129;01mor\u001b[39;00m _global_backward_hooks\n\u001b[1;32m   1519\u001b[0m         \u001b[38;5;129;01mor\u001b[39;00m _global_forward_hooks \u001b[38;5;129;01mor\u001b[39;00m _global_forward_pre_hooks):\n\u001b[0;32m-> 1520\u001b[0m     \u001b[38;5;28;01mreturn\u001b[39;00m \u001b[43mforward_call\u001b[49m\u001b[43m(\u001b[49m\u001b[38;5;241;43m*\u001b[39;49m\u001b[43margs\u001b[49m\u001b[43m,\u001b[49m\u001b[43m \u001b[49m\u001b[38;5;241;43m*\u001b[39;49m\u001b[38;5;241;43m*\u001b[39;49m\u001b[43mkwargs\u001b[49m\u001b[43m)\u001b[49m\n\u001b[1;32m   1522\u001b[0m \u001b[38;5;28;01mtry\u001b[39;00m:\n\u001b[1;32m   1523\u001b[0m     result \u001b[38;5;241m=\u001b[39m \u001b[38;5;28;01mNone\u001b[39;00m\n",
      "Cell \u001b[0;32mIn[6], line 51\u001b[0m, in \u001b[0;36mSpiking_Net.forward\u001b[0;34m(self, data)\u001b[0m\n\u001b[1;32m     48\u001b[0m \u001b[38;5;28;01melse\u001b[39;00m:\n\u001b[1;32m     49\u001b[0m     cur \u001b[38;5;241m=\u001b[39m \u001b[38;5;28mself\u001b[39m\u001b[38;5;241m.\u001b[39mnetwork[\u001b[38;5;241m2\u001b[39m\u001b[38;5;241m*\u001b[39mi_layer](spk)\n\u001b[0;32m---> 51\u001b[0m spk, \u001b[38;5;241m*\u001b[39m(mem[i_layer]) \u001b[38;5;241m=\u001b[39m \u001b[38;5;28;43mself\u001b[39;49m\u001b[38;5;241;43m.\u001b[39;49m\u001b[43mnetwork\u001b[49m\u001b[43m[\u001b[49m\u001b[38;5;241;43m2\u001b[39;49m\u001b[38;5;241;43m*\u001b[39;49m\u001b[43mi_layer\u001b[49m\u001b[38;5;241;43m+\u001b[39;49m\u001b[38;5;241;43m1\u001b[39;49m\u001b[43m]\u001b[49m\u001b[43m(\u001b[49m\u001b[43mcur\u001b[49m\u001b[43m,\u001b[49m\u001b[43m \u001b[49m\u001b[38;5;241;43m*\u001b[39;49m\u001b[43m(\u001b[49m\u001b[43mmem\u001b[49m\u001b[43m[\u001b[49m\u001b[43mi_layer\u001b[49m\u001b[43m]\u001b[49m\u001b[43m)\u001b[49m\u001b[43m)\u001b[49m\n\u001b[1;32m     53\u001b[0m \u001b[38;5;28;01mif\u001b[39;00m i_layer \u001b[38;5;241m==\u001b[39m \u001b[38;5;28mlen\u001b[39m(\u001b[38;5;28mself\u001b[39m\u001b[38;5;241m.\u001b[39mnetwork)\u001b[38;5;241m/\u001b[39m\u001b[38;5;241m/\u001b[39m\u001b[38;5;241m2\u001b[39m\u001b[38;5;241m-\u001b[39m\u001b[38;5;241m1\u001b[39m:\n\u001b[1;32m     54\u001b[0m     spk_rec\u001b[38;5;241m.\u001b[39mappend(spk)\n",
      "File \u001b[0;32m/opt/homebrew/lib/python3.11/site-packages/torch/nn/modules/module.py:1511\u001b[0m, in \u001b[0;36mModule._wrapped_call_impl\u001b[0;34m(self, *args, **kwargs)\u001b[0m\n\u001b[1;32m   1509\u001b[0m     \u001b[38;5;28;01mreturn\u001b[39;00m \u001b[38;5;28mself\u001b[39m\u001b[38;5;241m.\u001b[39m_compiled_call_impl(\u001b[38;5;241m*\u001b[39margs, \u001b[38;5;241m*\u001b[39m\u001b[38;5;241m*\u001b[39mkwargs)  \u001b[38;5;66;03m# type: ignore[misc]\u001b[39;00m\n\u001b[1;32m   1510\u001b[0m \u001b[38;5;28;01melse\u001b[39;00m:\n\u001b[0;32m-> 1511\u001b[0m     \u001b[38;5;28;01mreturn\u001b[39;00m \u001b[38;5;28;43mself\u001b[39;49m\u001b[38;5;241;43m.\u001b[39;49m\u001b[43m_call_impl\u001b[49m\u001b[43m(\u001b[49m\u001b[38;5;241;43m*\u001b[39;49m\u001b[43margs\u001b[49m\u001b[43m,\u001b[49m\u001b[43m \u001b[49m\u001b[38;5;241;43m*\u001b[39;49m\u001b[38;5;241;43m*\u001b[39;49m\u001b[43mkwargs\u001b[49m\u001b[43m)\u001b[49m\n",
      "File \u001b[0;32m/opt/homebrew/lib/python3.11/site-packages/torch/nn/modules/module.py:1520\u001b[0m, in \u001b[0;36mModule._call_impl\u001b[0;34m(self, *args, **kwargs)\u001b[0m\n\u001b[1;32m   1515\u001b[0m \u001b[38;5;66;03m# If we don't have any hooks, we want to skip the rest of the logic in\u001b[39;00m\n\u001b[1;32m   1516\u001b[0m \u001b[38;5;66;03m# this function, and just call forward.\u001b[39;00m\n\u001b[1;32m   1517\u001b[0m \u001b[38;5;28;01mif\u001b[39;00m \u001b[38;5;129;01mnot\u001b[39;00m (\u001b[38;5;28mself\u001b[39m\u001b[38;5;241m.\u001b[39m_backward_hooks \u001b[38;5;129;01mor\u001b[39;00m \u001b[38;5;28mself\u001b[39m\u001b[38;5;241m.\u001b[39m_backward_pre_hooks \u001b[38;5;129;01mor\u001b[39;00m \u001b[38;5;28mself\u001b[39m\u001b[38;5;241m.\u001b[39m_forward_hooks \u001b[38;5;129;01mor\u001b[39;00m \u001b[38;5;28mself\u001b[39m\u001b[38;5;241m.\u001b[39m_forward_pre_hooks\n\u001b[1;32m   1518\u001b[0m         \u001b[38;5;129;01mor\u001b[39;00m _global_backward_pre_hooks \u001b[38;5;129;01mor\u001b[39;00m _global_backward_hooks\n\u001b[1;32m   1519\u001b[0m         \u001b[38;5;129;01mor\u001b[39;00m _global_forward_hooks \u001b[38;5;129;01mor\u001b[39;00m _global_forward_pre_hooks):\n\u001b[0;32m-> 1520\u001b[0m     \u001b[38;5;28;01mreturn\u001b[39;00m \u001b[43mforward_call\u001b[49m\u001b[43m(\u001b[49m\u001b[38;5;241;43m*\u001b[39;49m\u001b[43margs\u001b[49m\u001b[43m,\u001b[49m\u001b[43m \u001b[49m\u001b[38;5;241;43m*\u001b[39;49m\u001b[38;5;241;43m*\u001b[39;49m\u001b[43mkwargs\u001b[49m\u001b[43m)\u001b[49m\n\u001b[1;32m   1522\u001b[0m \u001b[38;5;28;01mtry\u001b[39;00m:\n\u001b[1;32m   1523\u001b[0m     result \u001b[38;5;241m=\u001b[39m \u001b[38;5;28;01mNone\u001b[39;00m\n",
      "File \u001b[0;32m/opt/homebrew/lib/python3.11/site-packages/snntorch/_neurons/leaky.py:220\u001b[0m, in \u001b[0;36mLeaky.forward\u001b[0;34m(self, input_, mem)\u001b[0m\n\u001b[1;32m    216\u001b[0m     spk \u001b[38;5;241m=\u001b[39m \u001b[38;5;28mself\u001b[39m\u001b[38;5;241m.\u001b[39mfire_inhibition(\n\u001b[1;32m    217\u001b[0m         \u001b[38;5;28mself\u001b[39m\u001b[38;5;241m.\u001b[39mmem\u001b[38;5;241m.\u001b[39msize(\u001b[38;5;241m0\u001b[39m), \u001b[38;5;28mself\u001b[39m\u001b[38;5;241m.\u001b[39mmem\n\u001b[1;32m    218\u001b[0m     )  \u001b[38;5;66;03m# batch_size\u001b[39;00m\n\u001b[1;32m    219\u001b[0m \u001b[38;5;28;01melse\u001b[39;00m:\n\u001b[0;32m--> 220\u001b[0m     spk \u001b[38;5;241m=\u001b[39m \u001b[38;5;28;43mself\u001b[39;49m\u001b[38;5;241;43m.\u001b[39;49m\u001b[43mfire\u001b[49m\u001b[43m(\u001b[49m\u001b[38;5;28;43mself\u001b[39;49m\u001b[38;5;241;43m.\u001b[39;49m\u001b[43mmem\u001b[49m\u001b[43m)\u001b[49m\n\u001b[1;32m    222\u001b[0m \u001b[38;5;28;01mif\u001b[39;00m \u001b[38;5;129;01mnot\u001b[39;00m \u001b[38;5;28mself\u001b[39m\u001b[38;5;241m.\u001b[39mreset_delay:\n\u001b[1;32m    223\u001b[0m     do_reset \u001b[38;5;241m=\u001b[39m (\n\u001b[1;32m    224\u001b[0m         spk \u001b[38;5;241m/\u001b[39m \u001b[38;5;28mself\u001b[39m\u001b[38;5;241m.\u001b[39mgraded_spikes_factor \u001b[38;5;241m-\u001b[39m \u001b[38;5;28mself\u001b[39m\u001b[38;5;241m.\u001b[39mreset\n\u001b[1;32m    225\u001b[0m     )  \u001b[38;5;66;03m# avoid double reset\u001b[39;00m\n",
      "File \u001b[0;32m/opt/homebrew/lib/python3.11/site-packages/snntorch/_neurons/neurons.py:81\u001b[0m, in \u001b[0;36mSpikingNeuron.fire\u001b[0;34m(self, mem)\u001b[0m\n\u001b[1;32m     78\u001b[0m     mem \u001b[38;5;241m=\u001b[39m \u001b[38;5;28mself\u001b[39m\u001b[38;5;241m.\u001b[39mstate_quant(mem)\n\u001b[1;32m     80\u001b[0m mem_shift \u001b[38;5;241m=\u001b[39m mem \u001b[38;5;241m-\u001b[39m \u001b[38;5;28mself\u001b[39m\u001b[38;5;241m.\u001b[39mthreshold\n\u001b[0;32m---> 81\u001b[0m spk \u001b[38;5;241m=\u001b[39m \u001b[38;5;28;43mself\u001b[39;49m\u001b[38;5;241;43m.\u001b[39;49m\u001b[43mspike_grad\u001b[49m\u001b[43m(\u001b[49m\u001b[43mmem_shift\u001b[49m\u001b[43m)\u001b[49m\n\u001b[1;32m     83\u001b[0m spk \u001b[38;5;241m=\u001b[39m spk \u001b[38;5;241m*\u001b[39m \u001b[38;5;28mself\u001b[39m\u001b[38;5;241m.\u001b[39mgraded_spikes_factor\n\u001b[1;32m     85\u001b[0m \u001b[38;5;28;01mreturn\u001b[39;00m spk\n",
      "File \u001b[0;32m/opt/homebrew/lib/python3.11/site-packages/snntorch/surrogate.py:211\u001b[0m, in \u001b[0;36matan.<locals>.inner\u001b[0;34m(x)\u001b[0m\n\u001b[1;32m    210\u001b[0m \u001b[38;5;28;01mdef\u001b[39;00m \u001b[38;5;21minner\u001b[39m(x):\n\u001b[0;32m--> 211\u001b[0m     \u001b[38;5;28;01mreturn\u001b[39;00m \u001b[43mATan\u001b[49m\u001b[38;5;241;43m.\u001b[39;49m\u001b[43mapply\u001b[49m\u001b[43m(\u001b[49m\u001b[43mx\u001b[49m\u001b[43m,\u001b[49m\u001b[43m \u001b[49m\u001b[43malpha\u001b[49m\u001b[43m)\u001b[49m\n",
      "File \u001b[0;32m/opt/homebrew/lib/python3.11/site-packages/torch/autograd/function.py:553\u001b[0m, in \u001b[0;36mFunction.apply\u001b[0;34m(cls, *args, **kwargs)\u001b[0m\n\u001b[1;32m    550\u001b[0m \u001b[38;5;28;01mif\u001b[39;00m \u001b[38;5;129;01mnot\u001b[39;00m torch\u001b[38;5;241m.\u001b[39m_C\u001b[38;5;241m.\u001b[39m_are_functorch_transforms_active():\n\u001b[1;32m    551\u001b[0m     \u001b[38;5;66;03m# See NOTE: [functorch vjp and autograd interaction]\u001b[39;00m\n\u001b[1;32m    552\u001b[0m     args \u001b[38;5;241m=\u001b[39m _functorch\u001b[38;5;241m.\u001b[39mutils\u001b[38;5;241m.\u001b[39munwrap_dead_wrappers(args)\n\u001b[0;32m--> 553\u001b[0m     \u001b[38;5;28;01mreturn\u001b[39;00m \u001b[38;5;28;43msuper\u001b[39;49m\u001b[43m(\u001b[49m\u001b[43m)\u001b[49m\u001b[38;5;241;43m.\u001b[39;49m\u001b[43mapply\u001b[49m\u001b[43m(\u001b[49m\u001b[38;5;241;43m*\u001b[39;49m\u001b[43margs\u001b[49m\u001b[43m,\u001b[49m\u001b[43m \u001b[49m\u001b[38;5;241;43m*\u001b[39;49m\u001b[38;5;241;43m*\u001b[39;49m\u001b[43mkwargs\u001b[49m\u001b[43m)\u001b[49m  \u001b[38;5;66;03m# type: ignore[misc]\u001b[39;00m\n\u001b[1;32m    555\u001b[0m \u001b[38;5;28;01mif\u001b[39;00m \u001b[38;5;129;01mnot\u001b[39;00m is_setup_ctx_defined:\n\u001b[1;32m    556\u001b[0m     \u001b[38;5;28;01mraise\u001b[39;00m \u001b[38;5;167;01mRuntimeError\u001b[39;00m(\n\u001b[1;32m    557\u001b[0m         \u001b[38;5;124m\"\u001b[39m\u001b[38;5;124mIn order to use an autograd.Function with functorch transforms \u001b[39m\u001b[38;5;124m\"\u001b[39m\n\u001b[1;32m    558\u001b[0m         \u001b[38;5;124m\"\u001b[39m\u001b[38;5;124m(vmap, grad, jvp, jacrev, ...), it must override the setup_context \u001b[39m\u001b[38;5;124m\"\u001b[39m\n\u001b[1;32m    559\u001b[0m         \u001b[38;5;124m\"\u001b[39m\u001b[38;5;124mstaticmethod. For more details, please see \u001b[39m\u001b[38;5;124m\"\u001b[39m\n\u001b[1;32m    560\u001b[0m         \u001b[38;5;124m\"\u001b[39m\u001b[38;5;124mhttps://pytorch.org/docs/master/notes/extending.func.html\u001b[39m\u001b[38;5;124m\"\u001b[39m\n\u001b[1;32m    561\u001b[0m     )\n",
      "File \u001b[0;32m/opt/homebrew/lib/python3.11/site-packages/snntorch/surrogate.py:190\u001b[0m, in \u001b[0;36mATan.forward\u001b[0;34m(ctx, input_, alpha)\u001b[0m\n\u001b[1;32m    188\u001b[0m ctx\u001b[38;5;241m.\u001b[39msave_for_backward(input_)\n\u001b[1;32m    189\u001b[0m ctx\u001b[38;5;241m.\u001b[39malpha \u001b[38;5;241m=\u001b[39m alpha\n\u001b[0;32m--> 190\u001b[0m out \u001b[38;5;241m=\u001b[39m \u001b[43m(\u001b[49m\u001b[43minput_\u001b[49m\u001b[43m \u001b[49m\u001b[38;5;241;43m>\u001b[39;49m\u001b[43m \u001b[49m\u001b[38;5;241;43m0\u001b[39;49m\u001b[43m)\u001b[49m\u001b[38;5;241;43m.\u001b[39;49m\u001b[43mfloat\u001b[49m\u001b[43m(\u001b[49m\u001b[43m)\u001b[49m\n\u001b[1;32m    191\u001b[0m \u001b[38;5;28;01mreturn\u001b[39;00m out\n",
      "\u001b[0;31mKeyboardInterrupt\u001b[0m: "
     ]
    }
   ],
   "source": [
    "xi = 0.1\n",
    "num_epochs = 5\n",
    "bounds = np.array([[1, 4], [25, 200]])\n",
    "\n",
    "# Gaussian process with Mat??rn kernel as surrogate model\n",
    "rbf = RBF(length_scale= [1.0, 25.0], length_scale_bounds=(0.1, 75.0))\n",
    "gpr = GaussianProcessRegressor(kernel=rbf, alpha=xi**2)\n",
    "\n",
    "X_sample = np.array([[1, 150],[3, 50]])\n",
    "Y_sample = np.zeros((2,1))\n",
    "\n",
    "for i in range(2):\n",
    "    \n",
    "    net_desc = build_network(X_sample)\n",
    "    net = Spiking_Net(net_desc, lambda x: spikegen_multi(x,4)) \n",
    "    pred_spk = Predictor(predict_spikefreq, population_sizes=int(population/4))\n",
    "    loss = multi_MSELoss(weights=torch.tensor([1,1,1,1]))\n",
    "    opt = torch.optim.Adam(net.parameters(), lr=1e-3, betas=(0.9, 0.999), weight_decay=1e-4)\n",
    "    sche = torch.optim.lr_scheduler.ExponentialLR(opt, gamma=0.9)\n",
    "    train_net = Trainer(net, loss, opt, pred_spk,\n",
    "                        train_dataset, val_dataset, test_dataset, sche)\n",
    "    train_net.train(num_epochs)\n",
    "    \n",
    "    train_net.test(\"test\")\n",
    "    print(np.array([1/train_net.show_results(only_errors=True)]))\n",
    "    Y_sample[i] = np.array([1/train_net.show_results(only_errors=True)])\n",
    "    "
   ]
  },
  {
   "cell_type": "code",
   "execution_count": null,
   "metadata": {},
   "outputs": [],
   "source": [
    "# Number of iterations\n",
    "n_iter = 10\n",
    "\n",
    "for i in range(n_iter):\n",
    "    # Update Gaussian process with existing samples\n",
    "    gpr.fit(X_sample, Y_sample)\n",
    "\n",
    "    # Obtain next sampling point from the acquisition function (expected_improvement)\n",
    "    X_next = propose_location(expected_improvement, X_sample, Y_sample, gpr, bounds)\n",
    "    X_next = X_next.T.astype(int)\n",
    "    \n",
    "    print(f\"Next sample: {X_next}\")\n",
    "    # Obtain next noisy sample from the objective function\n",
    "    net_desc = build_network(X_next)\n",
    "    net = Spiking_Net(net_desc, lambda x: spikegen_multi(x,4)) \n",
    "    pred_spk = Predictor(predict_spikefreq, population_sizes=int(population/4))\n",
    "    loss = multi_MSELoss(weights=torch.tensor([1,1,1,1]))\n",
    "    opt = torch.optim.Adam(net.parameters(), lr=1e-3, betas=(0.9, 0.999), weight_decay=1e-4)\n",
    "    sche = torch.optim.lr_scheduler.ExponentialLR(opt, gamma=0.6)\n",
    "    train_net = Trainer(net, loss, opt, pred_spk,\n",
    "                    train_dataset, val_dataset, test_dataset, sche)\n",
    "    train_net.train(num_epochs)\n",
    "    \n",
    "    train_net.test(\"test\")\n",
    "    Y_next = np.array([1/train_net.show_results(only_errors=True)])\n",
    "    print(f\"Result: {X_next}, {Y_next}\")\n",
    "\n",
    "    # Add sample to previous samples\n",
    "    X_sample = np.vstack((X_sample, X_next))\n",
    "    Y_sample = np.vstack((Y_sample, Y_next))"
   ]
  },
  {
   "cell_type": "code",
   "execution_count": null,
   "metadata": {},
   "outputs": [],
   "source": [
    "def plot_gp_2D(gx, gy, mu, X_train, Y_train, title, i):\n",
    "    ax = plt.gcf().add_subplot(1, 2, i)\n",
    "    contour = ax.contourf(gx, gy, mu.reshape(gx.shape), cmap='coolwarm', alpha=0.8)\n",
    "    #plt.colorbar(contour, ax=ax, label='Performance')\n",
    "    scatter = ax.scatter(X_train[:,0], X_train[:,1], c=Y_train, cmap='coolwarm', edgecolor='k')\n",
    "    plt.colorbar(scatter, ax=ax, label='Performance')\n",
    "    ax.set_title(title)\n",
    "    ax.set_xlabel('Layers')\n",
    "    ax.set_ylabel('Width')\n",
    "\n",
    "noise_2D = 0.1\n",
    "\n",
    "rx, ry = np.arange(0, 5, 1), np.arange(25,200,1)\n",
    "gx, gy = np.meshgrid(rx, ry)\n",
    "\n",
    "X_2D = np.c_[gx.ravel(), gy.ravel()]\n",
    "\n",
    "X_2D_train = X_sample\n",
    "Y_2D_train = Y_sample \n",
    "\n",
    "plt.figure(figsize=(22,15))\n",
    "\n",
    "rbf = RBF(length_scale= [1.0, 100.0], length_scale_bounds=(1e-1, 50.0))\n",
    "gpr = GaussianProcessRegressor(kernel=rbf, alpha=0.035)\n",
    "gpr.fit(X_sample, Y_sample)\n",
    "\n",
    "mu_s, _ = gpr.predict(X_2D, return_std=True)\n",
    "\n",
    "plot_gp_2D(gx, gy, mu_s, X_2D_train, Y_2D_train, \n",
    "           f'Gaussian surrogate function of hyperparameters performance', 1)"
   ]
  },
  {
   "cell_type": "code",
   "execution_count": null,
   "metadata": {},
   "outputs": [],
   "source": [
    "import pandas as pd\n",
    "\n",
    "# Create a DataFrame with X_sample and Y_sample\n",
    "df_samples = pd.DataFrame(X_sample, columns=['Layers', 'Width'])\n",
    "df_samples['Performance'] = Y_sample\n",
    "\n",
    "print(df_samples)"
   ]
  },
  {
   "cell_type": "markdown",
   "metadata": {},
   "source": [
    "# Hyper params Optim"
   ]
  },
  {
   "cell_type": "code",
   "execution_count": 13,
   "metadata": {},
   "outputs": [],
   "source": [
    "from scipy.stats import norm\n",
    "from scipy.optimize import minimize\n",
    "from sklearn.gaussian_process import GaussianProcessRegressor\n",
    "from sklearn.gaussian_process.kernels import RBF, DotProduct\n",
    "\n",
    "def expected_improvement(X, X_sample, Y_sample, gpr, xi=0.3):\n",
    "    '''\n",
    "    Computes the EI at points X based on existing samples X_sample\n",
    "    and Y_sample using a Gaussian process surrogate model.\n",
    "    \n",
    "    Args:\n",
    "        X: Points at which EI shall be computed (m x d).\n",
    "        X_sample: Sample locations (n x d).\n",
    "        Y_sample: Sample values (n x 1).\n",
    "        gpr: A GaussianProcessRegressor fitted to samples.\n",
    "        xi: Exploitation-exploration trade-off parameter.\n",
    "    \n",
    "    Returns:\n",
    "        Expected improvements at points X.\n",
    "    '''\n",
    "    mu, sigma = gpr.predict(X, return_std=True)\n",
    "    mu_sample = gpr.predict(X_sample)\n",
    "\n",
    "    sigma = sigma.reshape(-1, 1)\n",
    "    \n",
    "    # Needed for noise-based model,\n",
    "    # otherwise use np.max(Y_sample).\n",
    "    # See also section 2.4 in [1]\n",
    "    mu_sample_opt = np.max(mu_sample)\n",
    "\n",
    "    with np.errstate(divide='warn'):\n",
    "        imp = mu - mu_sample_opt - xi\n",
    "        Z = imp / sigma\n",
    "        ei = imp * norm.cdf(Z) + sigma * norm.pdf(Z)\n",
    "        ei[sigma == 0.0] = 0.0\n",
    "\n",
    "    return ei\n",
    "\n",
    "def propose_location(acquisition, X_sample, Y_sample, gpr, bounds, n_restarts=25):\n",
    "    '''\n",
    "    Proposes the next sampling point by optimizing the acquisition function.\n",
    "    \n",
    "    Args:\n",
    "        acquisition: Acquisition function.\n",
    "        X_sample: Sample locations (n x d).\n",
    "        Y_sample: Sample values (n x 1).\n",
    "        gpr: A GaussianProcessRegressor fitted to samples.\n",
    "\n",
    "    Returns:\n",
    "        Location of the acquisition function maximum.\n",
    "    '''\n",
    "    dim = X_sample.shape[1]\n",
    "    min_val = 1\n",
    "    min_x = None\n",
    "    \n",
    "    def min_obj(X):\n",
    "        # Minimization objective is the negative acquisition function\n",
    "        return -acquisition(X.reshape(-1, dim), X_sample, Y_sample, gpr)\n",
    "    \n",
    "    # Find the best optimum by starting from n_restart different random points.\n",
    "    for x0 in np.random.uniform(bounds[:, 0], bounds[:, 1], size=(n_restarts, dim)):\n",
    "        res = minimize(min_obj, x0=x0, bounds=bounds, method='L-BFGS-B')       \n",
    "        if res.fun < min_val:\n",
    "            min_val = res.fun\n",
    "            min_x = res.x           \n",
    "            \n",
    "    return min_x.reshape(-1, 1)\n"
   ]
  },
  {
   "cell_type": "code",
   "execution_count": null,
   "metadata": {},
   "outputs": [],
   "source": [
    "xi = 0.1\n",
    "num_epochs = 5\n",
    "bounds = np.array([[1, 4], [25, 200]])\n",
    "\n",
    "# Gaussian process with Mat??rn kernel as surrogate model\n",
    "rbf = RBF(length_scale= [1.0, 25.0], length_scale_bounds=(0.1, 75.0))\n",
    "gpr = GaussianProcessRegressor(kernel=rbf, alpha=xi**2)\n",
    "\n",
    "X_sample = np.array([[1, 150],[3, 50]])\n",
    "Y_sample = np.zeros((2,1))\n",
    "\n",
    "for i in range(2):\n",
    "    \n",
    "    net_desc = build_network(np.a)\n",
    "    net = Spiking_Net(net_desc, lambda x: spikegen_multi(x,4)) \n",
    "    pred_spk = Predictor(predict_spikefreq, population_sizes=int(population/4))\n",
    "    loss = multi_MSELoss(weights=torch.tensor([1,1,1,1]))\n",
    "    opt = torch.optim.Adam(net.parameters(), lr=1e-3, betas=(0.9, 0.999), weight_decay=1e-4)\n",
    "    sche = torch.optim.lr_scheduler.ExponentialLR(opt, gamma=0.9)\n",
    "    train_net = Trainer(net, loss, opt, pred_spk,\n",
    "                        train_dataset, val_dataset, test_dataset, sche)\n",
    "    train_net.train(num_epochs)\n",
    "    \n",
    "    train_net.test(\"test\")\n",
    "    print(np.array([1/train_net.show_results(only_errors=True)]))\n",
    "    Y_sample[i] = np.array([1/train_net.show_results(only_errors=True)])\n",
    "    "
   ]
  },
  {
   "cell_type": "code",
   "execution_count": null,
   "metadata": {},
   "outputs": [],
   "source": [
    "xi = 0.01\n",
    "num_epochs = 5\n",
    "bounds = np.array([[1E-5, 1E-3], [1E-5, 1E-3]])\n",
    "\n",
    "# Gaussian process with Mat??rn kernel as surrogate model\n",
    "rbf = RBF(length_scale= [5E-4, 5E-4], length_scale_bounds=(1E-5, 1))\n",
    "gpr = GaussianProcessRegressor(kernel=rbf, alpha=xi**2)\n",
    "\n",
    "# Initialize samples\n",
    "X_sample = np.array([[1E-5, 1E-5], [1E-3, 1E-3]])\n",
    "Y_sample = np.zeros((2,1))\n",
    "\n",
    "for i in range(2):\n",
    "    net_desc = build_network(np.array([[2,120]]))\n",
    "    net = Spiking_Net(net_desc, lambda x: spikegen_multi(x,4)) \n",
    "    pred_spk = Predictor(predict_spikefreq, population_sizes=int(population/4))\n",
    "    loss = multi_MSELoss(weights=torch.tensor([1,1,1,1]))\n",
    "    opt = torch.optim.Adam(net.parameters(), lr=X_sample[i][0], betas=(0.9, 0.999), weight_decay=X_sample[i][1])\n",
    "    sche = torch.optim.lr_scheduler.ExponentialLR(opt, gamma=0.9)\n",
    "    train_net = Trainer(net, loss, opt, pred_spk,\n",
    "                        train_dataset, val_dataset, test_dataset, sche)\n",
    "    train_net.train(num_epochs)\n",
    "\n",
    "    train_net.test(\"test\")\n",
    "    print(np.array([1/train_net.show_results(only_errors=True)]))\n",
    "    Y_sample[i] = np.array([1/train_net.show_results(only_errors=True)])\n",
    "    "
   ]
  },
  {
   "cell_type": "code",
   "execution_count": null,
   "metadata": {},
   "outputs": [],
   "source": [
    "# Number of iterations\n",
    "n_iter = 10\n",
    "\n",
    "for i in range(n_iter):\n",
    "    # Update Gaussian process with existing samples\n",
    "    gpr.fit(X_sample, Y_sample)\n",
    "\n",
    "    # Obtain next sampling point from the acquisition function (expected_improvement)\n",
    "    X_next = propose_location(expected_improvement, X_sample, Y_sample, gpr, bounds)\n",
    "    X_next = X_next.T\n",
    "    \n",
    "    # Obtain next noisy sample from the objective function\n",
    "    net_desc = build_network(np.array([[3,50]]))\n",
    "    net = Spiking_Net(net_desc, lambda x: spikegen_multi(x,4)) \n",
    "    pred_spk = Predictor(predict_spikefreq, population_sizes=int(population/4))\n",
    "    loss = multi_MSELoss(weights=torch.tensor([1,1,1,1]))\n",
    "    opt = torch.optim.Adam(net.parameters(), lr=X_next[0][0], betas=(0.9, 0.999), weight_decay=X_next[0][1])\n",
    "    sche = torch.optim.lr_scheduler.ExponentialLR(opt, gamma=0.9)\n",
    "    train_net = Trainer(net, loss, opt, pred_spk,\n",
    "                    train_dataset, val_dataset, test_dataset, sche)\n",
    "    train_net.train(num_epochs)\n",
    "    \n",
    "    train_net.test(\"test\")\n",
    "    Y_next = np.array([1/train_net.show_results(only_errors=True)])\n",
    "    print(f\"Next sample: {X_next}, {Y_next}\")\n",
    "\n",
    "    # Add sample to previous samples\n",
    "    X_sample = np.vstack((X_sample, X_next))\n",
    "    Y_sample = np.vstack((Y_sample, Y_next))"
   ]
  },
  {
   "cell_type": "code",
   "execution_count": 11,
   "metadata": {},
   "outputs": [],
   "source": [
    "X_sample = np.array([[1.00e-03, 1.00e-03],\n",
    "       [5.16e-04, 7.11e-04],\n",
    "       [9.19e-04, 1.41e-04],\n",
    "       [9.57e-04, 4.02e-04],\n",
    "       [5.49e-04, 1.00e-03],\n",
    "       [5.26e-04, 3.29e-04],\n",
    "       [6.53e-04, 3.00e-05],\n",
    "       [9.74e-04, 7.07e-04],\n",
    "       [8.52e-04, 9.42e-04],\n",
    "       [5.40e-05, 9.96e-04],\n",
    "       [4.00e-05, 5.29e-04],\n",
    "       [1.00e-05, 1.00e-05]])\n",
    "\n",
    "Y_sample = np.array([6.304804, 5.756124, 5.648063, 5.617684, 5.505925, 5.468512,\n",
    "       5.444596, 5.361771, 5.049992, 4.319097, 4.152944, 3.636461])"
   ]
  },
  {
   "cell_type": "code",
   "execution_count": 45,
   "metadata": {},
   "outputs": [
    {
     "data": {
      "text/plain": [
       "<Figure size 2200x1500 with 0 Axes>"
      ]
     },
     "metadata": {},
     "output_type": "display_data"
    },
    {
     "data": {
      "image/png": "[encoded data removed]",
      "text/plain": [
       "<Figure size 2000x1000 with 2 Axes>"
      ]
     },
     "metadata": {},
     "output_type": "display_data"
    }
   ],
   "source": [
    "def plot_gp_2D(gx, gy, mu, X_train, Y_train, title, i):\n",
    "    plt.figure(figsize=(20,10))\n",
    "    ax = plt.gcf().add_subplot(1, 2, i)\n",
    "    contour = ax.contourf(gx, gy, mu.reshape(gx.shape), cmap='coolwarm', alpha=0.8)\n",
    "    scatter = ax.scatter(X_train[:,0], X_train[:,1], c=Y_train, cmap='coolwarm', edgecolor='k')\n",
    "    cbar = plt.colorbar(contour, ax=ax)\n",
    "    cbar.set_label(label='Performance',size=18)\n",
    "    cbar.ax.tick_params(labelsize=18)\n",
    "    #plt.colorbar(scatter, ax=ax, label='Training Points')\n",
    "    ax.tick_params(axis='both', which='major', labelsize=18)\n",
    "    ax.set_xscale('log')\n",
    "    ax.set_yscale('log')\n",
    "    ax.set_title(title)\n",
    "    ax.set_xlabel('$\\eta$', fontsize=24)\n",
    "    ax.set_ylabel('$\\lambda$', fontsize=24)\n",
    "    plt.show()\n",
    "\n",
    "noise_2D = 0.1\n",
    "\n",
    "rx, ry = np.arange(1E-5, 1E-2, 1E-5), np.arange(1E-5, 1E-2, 1E-5)\n",
    "gx, gy = np.meshgrid(rx, ry)\n",
    "\n",
    "X_2D = np.c_[gx.ravel(), gy.ravel()]\n",
    "\n",
    "X_2D_train = X_sample\n",
    "Y_2D_train = Y_sample \n",
    "\n",
    "plt.figure(figsize=(22,15))\n",
    "\n",
    "rbf = RBF(length_scale= [5E-4, 5E-4], length_scale_bounds=(1E-5, 1))\n",
    "gpr = GaussianProcessRegressor(kernel=rbf, alpha=0.04)\n",
    "gpr.fit(X_sample, Y_sample)\n",
    "\n",
    "mu_s, _ = gpr.predict(X_2D, return_std=True)\n",
    "\n",
    "plot_gp_2D(gx, gy, mu_s, X_2D_train, Y_2D_train, f' ', 1)\n"
   ]
  },
  {
   "cell_type": "code",
   "execution_count": null,
   "metadata": {},
   "outputs": [],
   "source": [
    "# Create a DataFrame with X_sample and Y_sample\n",
    "df_samples = pd.DataFrame(X_sample, columns=['Lr', 'Weight'])\n",
    "df_samples['Performance'] = Y_sample\n",
    "\n",
    "df_samples = df_samples.sort_values(by='Performance', ascending=False)\n",
    "print(df_samples)"
   ]
  },
  {
   "cell_type": "markdown",
   "metadata": {},
   "source": [
    "# Particle Classification"
   ]
  },
  {
   "cell_type": "code",
   "execution_count": null,
   "metadata": {},
   "outputs": [],
   "source": [
    "data_train, data_test, data_val = ds.build_dataset(\"../Data\", max_files=5, target=\"particle\")"
   ]
  },
  {
   "cell_type": "code",
   "execution_count": null,
   "metadata": {},
   "outputs": [],
   "source": [
    "batch_size = 50\n",
    "nw = 0\n",
    "train_load = DataLoader(data_train[:(len(data_train)//batch_size)*batch_size], batch_size=batch_size, shuffle=True, num_workers=nw)\n",
    "val_load   = DataLoader(data_val[:(len(data_val)//batch_size)*batch_size],     batch_size=batch_size, shuffle=True, num_workers=nw)\n",
    "test_load  = DataLoader(data_test[:(len(data_test)//batch_size)*batch_size],   batch_size=batch_size, shuffle=True, num_workers=nw)"
   ]
  },
  {
   "cell_type": "code",
   "execution_count": null,
   "metadata": {},
   "outputs": [],
   "source": [
    "from collections import Counter\n",
    "Counter([d[1] for d in data_train])"
   ]
  },
  {
   "cell_type": "code",
   "execution_count": null,
   "metadata": {},
   "outputs": [],
   "source": [
    "#loss = nn.MSELoss()\n",
    "num_inputs = 100\n",
    "num_hidden = 200\n",
    "num_outputs = nClasses\n",
    "num_steps = timesteps\n",
    "net = Net_LIF_1L(num_inputs, num_hidden, num_outputs, num_steps)"
   ]
  },
  {
   "cell_type": "code",
   "execution_count": null,
   "metadata": {},
   "outputs": [],
   "source": [
    "def comp_accuracy(output, targets):\n",
    "    _, predicted = output.sum(dim=0).max(1)\n",
    "    total = targets.size(0)\n",
    "    correct = (predicted == targets).sum().item()\n",
    "\n",
    "    return predicted, correct/total"
   ]
  },
  {
   "cell_type": "code",
   "execution_count": null,
   "metadata": {},
   "outputs": [],
   "source": [
    "loss_fn = SF.ce_count_loss(num_classes=nClasses)\n",
    "optimizer = torch.optim.Adam(net.parameters(), lr=5e-4, betas=(0.9, 0.999))\n",
    "\n",
    "train_net = Trainer(net, loss_fn, optimizer, train_load, val_load, test_load, comp_accuracy)"
   ]
  },
  {
   "cell_type": "code",
   "execution_count": null,
   "metadata": {},
   "outputs": [],
   "source": [
    "num_epochs = 5\n",
    "train_net.train(num_epochs)"
   ]
  },
  {
   "cell_type": "code",
   "execution_count": null,
   "metadata": {},
   "outputs": [],
   "source": [
    "train_net.plot_loss()"
   ]
  },
  {
   "cell_type": "code",
   "execution_count": null,
   "metadata": {},
   "outputs": [],
   "source": [
    "train_net.test(\"test\", mc=True, num_classes=nClasses)\n",
    "print(train_net.loss_hist[\"test\"])\n",
    "train_net.cm[\"test\"].plot()"
   ]
  },
  {
   "cell_type": "markdown",
   "metadata": {},
   "source": [
    "# Energy Regression"
   ]
  },
  {
   "cell_type": "code",
   "execution_count": 34,
   "metadata": {},
   "outputs": [],
   "source": [
    "dataset.transform = lambda x: (x[0], ds.to_tensor_and_dtype(np.log10(x[1][0]), torch.float32))\n",
    "\n",
    "#mask = [((d[0] != 0).any() and d[1] > 0).item()  and i < 10000  for i, d in enumerate(dataset)]\n",
    "#dataset = dataset[mask]\n",
    "train_dataset, test_dataset, val_dataset = ds.build_loaders(dataset, (0.7, 0.15), shuffle=True, num_workers=0)"
   ]
  },
  {
   "cell_type": "code",
   "execution_count": null,
   "metadata": {},
   "outputs": [],
   "source": [
    "energies = ((np.array([d[1] for d in dataset])))\n",
    "\n",
    "fig = plt.figure(facecolor=\"w\", figsize=(4, 3))\n",
    "plt.xlabel(\"log(Energy [MeV])\")\n",
    "plt.ylabel(\"Counts\")\n",
    "plt.yscale(\"log\")\n",
    "plt.hist(energies)\n",
    "\n",
    "print(f\"Minimum energy: {min(energies)}\")"
   ]
  },
  {
   "cell_type": "markdown",
   "metadata": {},
   "source": [
    "### Membrane Potential"
   ]
  },
  {
   "cell_type": "code",
   "execution_count": 35,
   "metadata": {},
   "outputs": [],
   "source": [
    "net_E_mem = Spiking_Net(net_desc_membrane, lambda x: spikegen_multi(x,4)) \n",
    "Pred = Predictor(predict_membrane)\n",
    "loss_fn = nn.MSELoss() #multi_MSELoss(weights=torch.tensor([1]))\n",
    "optimizer = torch.optim.Adam(net_E_mem.parameters(), lr=5e-4, betas=(0.9, 0.999))\n",
    "train_net = Trainer(net_E_mem, loss_fn, optimizer, Pred,\n",
    "                    train_dataset, val_dataset, test_dataset)"
   ]
  },
  {
   "cell_type": "code",
   "execution_count": null,
   "metadata": {},
   "outputs": [],
   "source": [
    "num_epochs = 5\n",
    "train_net.train(num_epochs)"
   ]
  },
  {
   "cell_type": "code",
   "execution_count": null,
   "metadata": {},
   "outputs": [],
   "source": [
    "train_net.test(\"test\")\n",
    "train_net.show_results(nbins=50)"
   ]
  },
  {
   "cell_type": "code",
   "execution_count": null,
   "metadata": {},
   "outputs": [],
   "source": [
    "def antitransform(x):\n",
    "    return torch.pow(10, x)\n",
    "train_net.predict.transform = antitransform\n",
    "\n",
    "train_net.test(\"test\")\n",
    "train_net.show_results(nbins=50, logscale=True, linthresh=1, title=\"Total Energy [MeV]\")"
   ]
  },
  {
   "cell_type": "code",
   "execution_count": null,
   "metadata": {},
   "outputs": [],
   "source": [
    "train_net.test(\"test\")\n",
    "print(f\"Test loss: {train_net.loss_hist['test'][num_epochs]}\")\n",
    "print(f\"Test relative error: {train_net.acc_hist['test'][num_epochs]*100}%\")\n",
    "train_net.plot_loss()\n",
    "train_net.plot_pred_vs_target(50, logscale=False, linthresh=1)"
   ]
  },
  {
   "cell_type": "code",
   "execution_count": null,
   "metadata": {},
   "outputs": [],
   "source": [
    "def antitransform(x):\n",
    "    return torch.pow(10, x)\n",
    "\n",
    "train_net.test(\"test\", transform=antitransform)\n",
    "print(f\"Test loss: {train_net.loss_hist['test'][num_epochs]}\")\n",
    "print(f\"Test relative error: {train_net.acc_hist['test'][num_epochs]*100}%\")\n",
    "train_net.plot_pred_vs_target(50, transform=antitransform, logscale=True, linthresh=1)"
   ]
  },
  {
   "cell_type": "markdown",
   "metadata": {},
   "source": [
    "### SpikeFreq"
   ]
  },
  {
   "cell_type": "code",
   "execution_count": 45,
   "metadata": {},
   "outputs": [],
   "source": [
    "net_E_spk = Spiking_Net(net_desc_spikefreq, lambda x: spikegen_multi(x,4)) \n",
    "Pred_E_spk = Predictor(predict_spikefreq)\n",
    "loss_fn = nn.MSELoss() #multi_MSELoss(weights=torch.tensor([1]))\n",
    "opt_E_spk = torch.optim.Adam(net_E_spk.parameters(), lr=5e-4, betas=(0.9, 0.999))\n",
    "train_E_spk = Trainer(net_E_spk, loss_fn, opt_E_spk, Pred_E_spk,\n",
    "                      train_dataset, val_dataset, test_dataset)"
   ]
  },
  {
   "cell_type": "code",
   "execution_count": null,
   "metadata": {},
   "outputs": [],
   "source": [
    "num_epochs = 5\n",
    "train_E_spk.train(num_epochs)"
   ]
  },
  {
   "cell_type": "code",
   "execution_count": null,
   "metadata": {},
   "outputs": [],
   "source": [
    "train_E_spk.test(\"test\")\n",
    "train_E_spk.show_results(nbins=50)"
   ]
  },
  {
   "cell_type": "code",
   "execution_count": null,
   "metadata": {},
   "outputs": [],
   "source": [
    "def antitransform(x):\n",
    "    return torch.pow(10, x)\n",
    "train_E_spk.predict.transform = antitransform\n",
    "\n",
    "train_E_spk.test(\"test\")\n",
    "train_E_spk.show_results(nbins=50, logscale=True, linthresh=1, title=\"Total Energy [MeV]\")"
   ]
  },
  {
   "cell_type": "code",
   "execution_count": 71,
   "metadata": {},
   "outputs": [],
   "source": [
    "net_E_spk = Spiking_Net(net_desc_spikefreq, lambda x: spikegen_multi(x,4))\n",
    "\n",
    "loss_fn = nn.MSELoss()\n",
    "opt_E_spk = torch.optim.Adam(net_E_spk.parameters(), lr=5e-4, betas=(0.9, 0.999))\n",
    "train_E_spk = Trainer(net_E_spk, loss_fn, opt_E_spk, train_dataset, val_dataset, test_dataset, predict_spikefreq)"
   ]
  },
  {
   "cell_type": "code",
   "execution_count": null,
   "metadata": {},
   "outputs": [],
   "source": [
    "num_epochs=5\n",
    "train_E_spk.train(num_epochs)\n",
    "\n",
    "train_E_spk.test(\"test\")\n",
    "print(f\"Test loss: {train_E_spk.loss_hist['test'][num_epochs]}\")\n",
    "print(f\"Test relative error: {train_E_spk.acc_hist['test'][num_epochs]*100}%\")\n",
    "train_E_spk.plot_loss()\n",
    "train_E_spk.plot_pred_vs_target(50, logscale=False, linthresh=1)"
   ]
  },
  {
   "cell_type": "code",
   "execution_count": null,
   "metadata": {},
   "outputs": [],
   "source": [
    "def antitransform(x):\n",
    "    return torch.pow(10, x)\n",
    "\n",
    "train_E_spk.test(\"test\", transform=antitransform)\n",
    "print(f\"Test loss: {train_E_spk.loss_hist['test'][num_epochs]}\")\n",
    "print(f\"Test relative error: {train_E_spk.acc_hist['test'][num_epochs]*100}%\")\n",
    "train_E_spk.plot_pred_vs_target(50, transform=antitransform, logscale=True, linthresh=1)"
   ]
  },
  {
   "cell_type": "code",
   "execution_count": null,
   "metadata": {},
   "outputs": [],
   "source": [
    "net.eval()\n",
    "all_x = []\n",
    "all_predictions = []\n",
    "with torch.no_grad():\n",
    "    for data, targets in test_dataset:\n",
    "        data = data.to(device)\n",
    "        targets = targets.to(device)\n",
    "\n",
    "        # forward pass\n",
    "        output = net_E_spk(data)\n",
    "        # calculate total accuracy\n",
    "        pred, acc = predict_spikefreq(output, targets, antitransform)\n",
    "        all_predictions.extend(pred.tolist())\n",
    "        all_x.extend(data.sum((1,2)).tolist())\n",
    "        \n",
    "fig = plt.figure(facecolor=\"w\", figsize=(10, 6))\n",
    "plt.xlabel(\"Photon Count\")\n",
    "plt.ylabel(\"Energy Prediction [MeV]\")\n",
    "plt.hist2d(all_x, all_predictions, 50, norm=SymLogNorm(linthresh=1), cmap='viridis')\n",
    "# Add a color bar\n",
    "plt.colorbar(label='Counts')\n",
    "plt.plot([0, 1e5], [0, 1e5], color='white', linewidth=1, linestyle='--')"
   ]
  },
  {
   "cell_type": "markdown",
   "metadata": {},
   "source": [
    "### Linear Model"
   ]
  },
  {
   "cell_type": "code",
   "execution_count": null,
   "metadata": {},
   "outputs": [],
   "source": [
    "data_train, data_test, data_val = ds.build_dataset(\"../Data/PrimaryOnly2\", max_files=5, primary_only=True,\n",
    "                                                   target=[\"energy\", \"centroid\"])"
   ]
  },
  {
   "cell_type": "code",
   "execution_count": null,
   "metadata": {},
   "outputs": [],
   "source": [
    "data_train, data_test, data_val = ds.build_dataset(\"../Data/All\", max_files=100, primary_only=False,\n",
    "                                                   target=[\"energy\", \"centroid\"])"
   ]
  },
  {
   "cell_type": "code",
   "execution_count": null,
   "metadata": {},
   "outputs": [],
   "source": [
    "lin_model     = LinearRegression()\n",
    "lin_model_log = LinearRegression()\n",
    "\n",
    "x, y = zip(*[data_train[i] for i in range(len(data_train))])\n",
    "E = np.array([y[0] for y in y])\n",
    "centroid = np.array([y[1] for y in y])\n",
    "#primary = np.array([y[2] for y in y])\n",
    "\n",
    "# Convert to NumPy arrays\n",
    "x = torch.stack(x).sum((1,2)).numpy()  # Convert features to NumPy\n",
    "\n",
    "# eliminate results with no photons\n",
    "mask = x > 0\n",
    "x = x[mask]\n",
    "E = E[mask]\n",
    "centroid = centroid[mask]\n",
    "#primary = primary[mask]\n",
    "\n",
    "# convert to double log scale\n",
    "x_log = np.log10(x)\n",
    "E_log = np.log10(E)\n",
    "\n",
    "lin_model.fit(x.reshape(-1,1), E)\n",
    "lin_model_log.fit(x_log.reshape(-1,1), E_log)\n",
    "print(\"Linear Model:\")\n",
    "print(\"Slope:\", lin_model.coef_[0])\n",
    "print(\"Intercept:\", lin_model.intercept_)\n",
    "print(\"\\n###################\\n\\nLinear Model Trained on logs:\")\n",
    "print(\"Slope:\", lin_model_log.coef_[0])\n",
    "print(\"Intercept:\", lin_model_log.intercept_)"
   ]
  },
  {
   "cell_type": "code",
   "execution_count": null,
   "metadata": {},
   "outputs": [],
   "source": [
    "fig = plt.figure(facecolor=\"w\", figsize=(10, 6))\n",
    "plt.xlabel(\"log(Energy [MeV])\")\n",
    "plt.ylabel(\"Counts\")\n",
    "plt.yscale(\"log\")\n",
    "plt.hist(E_log)"
   ]
  },
  {
   "cell_type": "code",
   "execution_count": null,
   "metadata": {},
   "outputs": [],
   "source": [
    "x_test, y_test = zip(*[data_train[i] for i in range(len(data_test))])\n",
    "E_test = np.array([y[0] for y in y_test])\n",
    "centroid_test = np.array([y[1] for y in y_test])\n",
    "#primary_test = np.array([y[2] for y in y_test])\n",
    "\n",
    "# Convert to NumPy arrays\n",
    "x_test = torch.stack(x_test).sum((1,2)).numpy()  # Convert features to NumPy\n",
    "\n",
    "# eliminate results with no photons\n",
    "mask = x_test > 0\n",
    "x_test = x_test[mask]\n",
    "E_test = E_test[mask]\n",
    "centroid_test = centroid_test[mask]\n",
    "#primary_test = primary_test[mask]\n",
    "\n",
    "x_test_log = np.log10(x_test)\n",
    "E_test_log = np.log10(E_test)"
   ]
  },
  {
   "cell_type": "code",
   "execution_count": null,
   "metadata": {},
   "outputs": [],
   "source": [
    "fig, ax = plt.subplots(ncols=2, figsize=(16,6))\n",
    "\n",
    "x_plot = np.arange(0.1, np.max(x_test), 1e3)\n",
    "y_plot = lin_model.predict(x_plot.reshape(-1,1))\n",
    "x_plot_log = np.arange(0.1, np.max(x_test_log), 0.1)\n",
    "y_plot_log = lin_model_log.predict(x_plot_log.reshape(-1,1))\n",
    "\n",
    "ax[0].set_xlabel(\"log(Photon Count)\")\n",
    "ax[0].set_ylabel(\"log(Energy [MeV])\")\n",
    "hb0 = ax[0].hist2d(x_test_log, E_test_log, 50, norm=SymLogNorm(linthresh=1), cmap='viridis')\n",
    "ax[0].plot(np.log10(x_plot), np.log10(y_plot), color='white',\n",
    "           linewidth=2, linestyle='--', label=\"Linear Model Prediction\")\n",
    "ax[0].plot(x_plot_log, y_plot_log, color='#FF00FF',\n",
    "           linewidth=2, linestyle='--', label=\"Log Model Prediction\")\n",
    "cbar0 = fig.colorbar(hb0[3], ax=ax[0])\n",
    "cbar0.set_label('Data')  # Label for the first colorbar\n",
    "ax[0].legend()\n",
    "\n",
    "ax[1].set_xlabel(\"Photon Count\")\n",
    "ax[1].set_ylabel(\"Energy [MeV]\")\n",
    "hb1 = ax[1].hist2d(x_test, E_test, 50, norm=SymLogNorm(linthresh=1), cmap='viridis')\n",
    "ax[1].plot(x_plot, y_plot, color='white',\n",
    "           linewidth=1, linestyle='--', label=\"Linear Model Prediction\")\n",
    "ax[1].plot(np.pow(10,x_plot_log), np.pow(10,y_plot_log), color='#FF00FF',\n",
    "           linewidth=1, linestyle='--', label=\"Log Model Prediction\")\n",
    "cbar1 = fig.colorbar(hb1[3], ax=ax[1])\n",
    "cbar1.set_label('Data')  # Label for the first colorbar\n",
    "ax[1].legend()"
   ]
  },
  {
   "cell_type": "code",
   "execution_count": null,
   "metadata": {},
   "outputs": [],
   "source": [
    "fig, ax = plt.subplots(ncols=2, figsize=(16,6))\n",
    "\n",
    "condition = centroid_test[:,1] < 5\n",
    "\n",
    "ax[0].set_title(\"Y idx < 5\")\n",
    "ax[0].set_ylabel(\"Energy [MeV]\")\n",
    "hb0 = ax[0].hist2d(x_test[condition], E_test[condition], 50, norm=SymLogNorm(linthresh=1, vmax=1e4, vmin=0), cmap='viridis')\n",
    "ax[0].plot(x_plot, y_plot, color='white',\n",
    "           linewidth=1, linestyle='--', label=\"Linear Model Prediction\")\n",
    "ax[0].plot(np.pow(10,x_plot_log), np.pow(10,y_plot_log), color='#FF00FF',\n",
    "           linewidth=1, linestyle='--', label=\"Log Model Prediction\")\n",
    "ax[0].legend()\n",
    "\n",
    "\n",
    "condition = centroid_test[:,1] >= 5\n",
    "\n",
    "ax[1].set_title(\"Y idx >= 5\")\n",
    "hb1 = ax[1].hist2d(x_test[condition], E_test[condition], 50, norm=SymLogNorm(linthresh=1, vmax=1e4, vmin=0), cmap='viridis')\n",
    "ax[1].plot(x_plot, y_plot, color='white',\n",
    "           linewidth=1, linestyle='--', label=\"Linear Model Prediction\")\n",
    "ax[1].plot(np.pow(10,x_plot_log), np.pow(10,y_plot_log), color='#FF00FF',\n",
    "           linewidth=1, linestyle='--', label=\"Log Model Prediction\")\n",
    "ax[1].legend()\n",
    "\n",
    "cbar1 = fig.colorbar(hb1[3], ax=ax)\n",
    "cbar1.set_label('Data') \n",
    "fig.text(0.5, 0.04, 'Photon Count', ha='center')\n",
    "#plt.tight_layout(rect=[0.05, 0.05, 1, 1])"
   ]
  },
  {
   "cell_type": "code",
   "execution_count": null,
   "metadata": {},
   "outputs": [],
   "source": [
    "E_pred = lin_model.predict(x_test.reshape(-1,1))\n",
    "acc = np.mean(abs((E_test-E_pred)/E_test)*100)\n",
    "print(f\"Mean relative error: {acc}%\")"
   ]
  },
  {
   "cell_type": "code",
   "execution_count": null,
   "metadata": {},
   "outputs": [],
   "source": [
    "E_pred_log = lin_model_log.predict(x_test_log.reshape(-1,1))\n",
    "acc = np.mean(abs((np.pow(10,E_test_log)-np.pow(10,E_pred_log))/np.pow(10,E_test_log))*100)\n",
    "print(f\"Mean relative error: {acc}%\")"
   ]
  },
  {
   "cell_type": "code",
   "execution_count": null,
   "metadata": {},
   "outputs": [],
   "source": [
    "mask_up   = E_test_log > lin_model_log.predict(x_test_log.reshape(-1,1))\n",
    "mask_down = E_test_log < lin_model_log.predict(x_test_log.reshape(-1,1))"
   ]
  },
  {
   "cell_type": "code",
   "execution_count": null,
   "metadata": {},
   "outputs": [],
   "source": [
    "fig, ax = plt.subplots(ncols=1, figsize=(8,6))\n",
    "ax.hist(centroid_test[mask_up, 1], bins=[-0.5+i for i in range(11)], \n",
    "        edgecolor='blue', facecolor='white', linewidth=1.5, label='E > prediction', alpha=0.8)\n",
    "ax.hist(centroid_test[mask_down, 1], bins=[-0.5+i for i in range(11)], \n",
    "        edgecolor='orange', facecolor='white', linewidth=1.5, label='E < prediction', alpha=0.8)\n",
    "ax.hist(centroid_test[:, 1], bins=[-0.5+i for i in range(11)], \n",
    "        edgecolor='grey', facecolor='lightgrey', alpha=0.2, linewidth=1.5, label='Global')\n",
    "ax.set_xticks([i for i in range(10)])\n",
    "ax.legend()\n",
    "ax.set_xlabel(\"Centroid Y cell\")\n",
    "ax.set_ylabel(\"Counts per cell\")"
   ]
  },
  {
   "cell_type": "markdown",
   "metadata": {},
   "source": [
    "# Energy Centroid"
   ]
  },
  {
   "cell_type": "markdown",
   "metadata": {},
   "source": [
    "## X"
   ]
  },
  {
   "cell_type": "code",
   "execution_count": 14,
   "metadata": {},
   "outputs": [],
   "source": [
    "dataset.transform = transform=lambda x: (x[0], ds.to_tensor_and_dtype((x[1][1][0]), torch.float32))\n",
    "train_dataset, test_dataset, val_dataset = ds.build_loaders(dataset, (0.7, 0.15), shuffle=True, num_workers=0)"
   ]
  },
  {
   "cell_type": "code",
   "execution_count": null,
   "metadata": {},
   "outputs": [],
   "source": [
    "X = ((np.array([d[1] for d in dataset])))\n",
    "\n",
    "fig = plt.figure(facecolor=\"w\", figsize=(4, 3))\n",
    "plt.xlabel(\"X coordinate\")\n",
    "plt.ylabel(\"Counts\")\n",
    "plt.yscale(\"log\")\n",
    "plt.hist(X)"
   ]
  },
  {
   "cell_type": "code",
   "execution_count": 17,
   "metadata": {},
   "outputs": [],
   "source": [
    "net_x_spk = Spiking_Net(net_desc_spikefreq, lambda x: spikegen_multi(x,4))\n",
    "\n",
    "loss_fn = nn.MSELoss()\n",
    "opt_x_spk = torch.optim.Adam(net_x_spk.parameters(), lr=5e-4, betas=(0.9, 0.999))\n",
    "train_x_spk = Trainer(net_x_spk, loss_fn, opt_x_spk, train_dataset, val_dataset, test_dataset, predict_spikefreq)"
   ]
  },
  {
   "cell_type": "code",
   "execution_count": null,
   "metadata": {},
   "outputs": [],
   "source": [
    "num_epochs=5\n",
    "train_x_spk.train(num_epochs)\n",
    "\n",
    "train_x_spk.test(\"test\")\n",
    "print(f\"Test loss: {train_x_spk.loss_hist['test'][num_epochs]}\")\n",
    "print(f\"Test relative error: {train_x_spk.acc_hist['test'][num_epochs]*100}%\")\n",
    "train_x_spk.plot_loss()\n",
    "train_x_spk.plot_pred_vs_target(50, logscale=False, linthresh=1)"
   ]
  },
  {
   "cell_type": "markdown",
   "metadata": {},
   "source": [
    "## Z"
   ]
  },
  {
   "cell_type": "code",
   "execution_count": 19,
   "metadata": {},
   "outputs": [],
   "source": [
    "dataset.transform = transform=lambda x: (x[0], ds.to_tensor_and_dtype((x[1][1][2]), torch.float32))\n",
    "train_dataset, test_dataset, val_dataset = ds.build_loaders(dataset, (0.7, 0.15), shuffle=True, num_workers=0)"
   ]
  },
  {
   "cell_type": "code",
   "execution_count": null,
   "metadata": {},
   "outputs": [],
   "source": [
    "Z = ((np.array([d[1] for d in dataset])))\n",
    "\n",
    "fig = plt.figure(facecolor=\"w\", figsize=(4, 3))\n",
    "plt.xlabel(\"Z coordinate\")\n",
    "plt.ylabel(\"Counts\")\n",
    "plt.yscale(\"log\")\n",
    "plt.hist(Z, bins=[i for i in range(10)])"
   ]
  },
  {
   "cell_type": "code",
   "execution_count": 24,
   "metadata": {},
   "outputs": [],
   "source": [
    "net_z_spk = Spiking_Net(net_desc_spikefreq, lambda x: spikegen_multi(x,4))\n",
    "\n",
    "loss_fn = nn.MSELoss()\n",
    "opt_z_spk = torch.optim.Adam(net_z_spk.parameters(), lr=5e-4, betas=(0.9, 0.999))\n",
    "train_z_spk = Trainer(net_z_spk, loss_fn, opt_z_spk, train_dataset, val_dataset, test_dataset, predict_spikefreq)"
   ]
  },
  {
   "cell_type": "code",
   "execution_count": null,
   "metadata": {},
   "outputs": [],
   "source": [
    "num_epochs=5\n",
    "train_z_spk.train(num_epochs)\n",
    "\n",
    "train_z_spk.test(\"test\")\n",
    "print(f\"Test loss: {train_z_spk.loss_hist['test'][num_epochs]}\")\n",
    "print(f\"Test relative error: {train_z_spk.acc_hist['test'][num_epochs]*100}%\")\n",
    "train_z_spk.plot_loss()\n",
    "train_z_spk.plot_pred_vs_target(50, logscale=False, linthresh=1)"
   ]
  },
  {
   "cell_type": "markdown",
   "metadata": {},
   "source": [
    "## Y"
   ]
  },
  {
   "cell_type": "code",
   "execution_count": 26,
   "metadata": {},
   "outputs": [],
   "source": [
    "dataset.transform = transform=lambda x: (x[0], ds.to_tensor_and_dtype((x[1][1][1]), torch.float32))\n",
    "train_dataset, test_dataset, val_dataset = ds.build_loaders(dataset, (0.7, 0.15), shuffle=True, num_workers=0)"
   ]
  },
  {
   "cell_type": "code",
   "execution_count": null,
   "metadata": {},
   "outputs": [],
   "source": [
    "Y = ((np.array([d[1] for d in dataset])))\n",
    "\n",
    "fig = plt.figure(facecolor=\"w\", figsize=(4, 3))\n",
    "plt.xlabel(\"Y coordinate\")\n",
    "plt.ylabel(\"Counts\")\n",
    "plt.yscale(\"log\")\n",
    "plt.hist(Y, bins=[i for i in range(10)])"
   ]
  },
  {
   "cell_type": "code",
   "execution_count": 28,
   "metadata": {},
   "outputs": [],
   "source": [
    "net_y_spk = Spiking_Net(net_desc_spikefreq, lambda x: spikegen_multi(x,4))\n",
    "\n",
    "loss_fn = nn.MSELoss()\n",
    "opt_y_spk = torch.optim.Adam(net_y_spk.parameters(), lr=5e-4, betas=(0.9, 0.999))\n",
    "train_y_spk = Trainer(net_y_spk, loss_fn, opt_y_spk, train_dataset, val_dataset, test_dataset, predict_spikefreq)"
   ]
  },
  {
   "cell_type": "code",
   "execution_count": null,
   "metadata": {},
   "outputs": [],
   "source": [
    "num_epochs=5\n",
    "train_y_spk.train(num_epochs)\n",
    "\n",
    "train_y_spk.test(\"test\")\n",
    "print(f\"Test loss: {train_y_spk.loss_hist['test'][num_epochs]}\")\n",
    "print(f\"Test relative error: {train_y_spk.acc_hist['test'][num_epochs]*100}%\")\n",
    "train_y_spk.plot_loss()\n",
    "train_y_spk.plot_pred_vs_target(50, logscale=False, linthresh=1)"
   ]
  },
  {
   "cell_type": "markdown",
   "metadata": {},
   "source": [
    "## X, Y and Z together"
   ]
  },
  {
   "cell_type": "code",
   "execution_count": 11,
   "metadata": {},
   "outputs": [],
   "source": [
    "dataset.transform = transform=lambda x: (x[0], ds.to_tensor_and_dtype((x[1][1]), torch.float32))\n",
    "train_dataset, test_dataset, val_dataset = ds.build_loaders(dataset, (0.7, 0.15), shuffle=True, num_workers=0)"
   ]
  },
  {
   "cell_type": "code",
   "execution_count": null,
   "metadata": {},
   "outputs": [],
   "source": [
    "def set_seed(seed: int = 42) -> None:\n",
    "    np.random.seed(seed)\n",
    "    torch.manual_seed(seed)\n",
    "    torch.cuda.manual_seed(seed)\n",
    "    # When running on the CuDNN backend, two further options must be set\n",
    "    torch.backends.cudnn.deterministic = True\n",
    "    torch.backends.cudnn.benchmark = False\n",
    "    # Set a fixed value for the hash seed\n",
    "    os.environ[\"PYTHONHASHSEED\"] = str(seed)\n",
    "    print(f\"Random seed set as {seed}\")"
   ]
  },
  {
   "cell_type": "code",
   "execution_count": null,
   "metadata": {},
   "outputs": [],
   "source": [
    "set_seed(12)\n",
    "a = torch.rand(size=(100,5,30))\n",
    "b = torch.rand(size=(5,3))\n",
    "p, a = predict_spikefreq_multitask(a, b)\n",
    "print(p.shape, a.shape)\n",
    "t = torch.rand(size=(5,3))\n",
    "print(t)\n",
    "print(p)\n",
    "loss_fn = nn.MSELoss(reduction='sum')\n",
    "o = loss_fn(t, p)\n",
    "print(o)"
   ]
  },
  {
   "cell_type": "code",
   "execution_count": null,
   "metadata": {},
   "outputs": [],
   "source": [
    "population = 10\n",
    "net_centroid = {\n",
    "    \"layers\" : [400, 200, 3*population],\n",
    "    \"timesteps\": 100,\n",
    "    \"output\": \"membrane\",\n",
    "    \"neuron_params\" : {\n",
    "                1: [snn.Leaky, \n",
    "                    {\"beta\" : 1.0,\n",
    "                    \"learn_beta\": True,\n",
    "                    \"threshold\" : 1.0,\n",
    "                    \"learn_threshold\": True,\n",
    "                    \"spike_grad\": surrogate.fast_sigmoid(),\n",
    "                    }],\n",
    "                2: [snn.Leaky, \n",
    "                    {\"beta\" : 1.0,\n",
    "                    \"learn_beta\": True,\n",
    "                    \"threshold\" : 1.0,\n",
    "                    \"learn_threshold\": True, \n",
    "                    \"spike_grad\": surrogate.fast_sigmoid(),\n",
    "                    }]\n",
    "                }\n",
    "    }\n",
    "\n",
    "def predict_spikefreq_multitask(output, targets, transform=None):\n",
    "    population=10\n",
    "    output = output.reshape(output.shape[0], output.shape[1], population, -1)\n",
    "    prediction = output.sum((0,2))/(output.shape[0]*output.shape[2])\n",
    "    if transform:\n",
    "        prediction, targets = transform(prediction), transform(targets)\n",
    "    accuracy = torch.abs((targets - prediction)/targets)\n",
    "    return prediction, torch.mean(accuracy, 0)\n",
    "\n",
    "net_c = Spiking_Net(net_centroid, lambda x: spikegen_multi(x,4))\n",
    "\n",
    "loss_fn = nn.MSELoss()\n",
    "optimizer_c = torch.optim.Adam(net_c.parameters(), lr=5e-4, betas=(0.9, 0.999))\n",
    "train_net_c = Trainer(net_c, loss_fn, optimizer_c, train_load, val_load, test_load, predict_spikefreq_multitask)"
   ]
  },
  {
   "cell_type": "code",
   "execution_count": null,
   "metadata": {},
   "outputs": [],
   "source": [
    "train_net_c.train(5)"
   ]
  },
  {
   "cell_type": "code",
   "execution_count": null,
   "metadata": {},
   "outputs": [],
   "source": [
    "train_net_c.acc_hist[\"validation\"]"
   ]
  },
  {
   "cell_type": "markdown",
   "metadata": {},
   "source": [
    "# Energy Dispersion"
   ]
  },
  {
   "cell_type": "markdown",
   "metadata": {},
   "source": [
    "## X"
   ]
  },
  {
   "cell_type": "code",
   "execution_count": 30,
   "metadata": {},
   "outputs": [],
   "source": [
    "dataset.transform = transform=lambda x: (x[0], ds.to_tensor_and_dtype((x[1][2][0]), torch.float32))\n",
    "train_dataset, test_dataset, val_dataset = ds.build_loaders(dataset, (0.7, 0.15), shuffle=True, num_workers=0)"
   ]
  },
  {
   "cell_type": "code",
   "execution_count": null,
   "metadata": {},
   "outputs": [],
   "source": [
    "sigmaX = ((np.array([d[1] for d in dataset])))\n",
    "\n",
    "fig = plt.figure(facecolor=\"w\", figsize=(4, 3))\n",
    "plt.xlabel(r'$\\sigma_{X}$', fontsize=14)\n",
    "plt.ylabel(\"Counts\")\n",
    "plt.yscale(\"log\")\n",
    "plt.hist(sigmaX)\n",
    "\n",
    "#print(f\"Minimum energy: {min(energies)}\")"
   ]
  },
  {
   "cell_type": "code",
   "execution_count": 33,
   "metadata": {},
   "outputs": [],
   "source": [
    "net_sX_spk = Spiking_Net(net_desc_spikefreq, lambda x: spikegen_multi(x,4))\n",
    "\n",
    "opt_sX_spk = torch.optim.Adam(net_sX_spk.parameters(), lr=5e-4, betas=(0.9, 0.999))\n",
    "train_sX_spk = Trainer(net_sX_spk, loss_fn, opt_sX_spk, train_dataset, val_dataset, test_dataset, predict_spikefreq)"
   ]
  },
  {
   "cell_type": "code",
   "execution_count": null,
   "metadata": {},
   "outputs": [],
   "source": [
    "num_epochs=5\n",
    "train_sX_spk.train(num_epochs)\n",
    "\n",
    "train_sX_spk.test(\"test\")\n",
    "print(f\"Test loss: {train_sX_spk.loss_hist['test'][num_epochs]}\")\n",
    "print(f\"Test relative error: {train_sX_spk.acc_hist['test'][num_epochs]*100}%\")\n",
    "train_sX_spk.plot_loss()\n",
    "train_sX_spk.plot_pred_vs_target(50, logscale=False, linthresh=1)"
   ]
  },
  {
   "cell_type": "markdown",
   "metadata": {},
   "source": [
    "## Z"
   ]
  },
  {
   "cell_type": "code",
   "execution_count": 35,
   "metadata": {},
   "outputs": [],
   "source": [
    "dataset.transform = transform=lambda x: (x[0], ds.to_tensor_and_dtype((x[1][2][2]), torch.float32))\n",
    "train_dataset, test_dataset, val_dataset = ds.build_loaders(dataset, (0.7, 0.15), shuffle=True, num_workers=0)"
   ]
  },
  {
   "cell_type": "code",
   "execution_count": null,
   "metadata": {},
   "outputs": [],
   "source": [
    "sigmaZ = ((np.array([d[1] for d in dataset])))\n",
    "\n",
    "fig = plt.figure(facecolor=\"w\", figsize=(4, 3))\n",
    "plt.xlabel(r'$\\sigma_{Z}$', fontsize=14)\n",
    "plt.ylabel(\"Counts\")\n",
    "plt.yscale(\"log\")\n",
    "plt.hist(sigmaZ)"
   ]
  },
  {
   "cell_type": "code",
   "execution_count": 37,
   "metadata": {},
   "outputs": [],
   "source": [
    "net_sZ_spk = Spiking_Net(net_desc_spikefreq, lambda x: spikegen_multi(x,4))\n",
    "\n",
    "opt_sZ_spk = torch.optim.Adam(net_sZ_spk.parameters(), lr=5e-4, betas=(0.9, 0.999))\n",
    "train_sZ_spk = Trainer(net_sZ_spk, loss_fn, opt_sZ_spk, train_dataset, val_dataset, test_dataset, predict_spikefreq)"
   ]
  },
  {
   "cell_type": "code",
   "execution_count": null,
   "metadata": {},
   "outputs": [],
   "source": [
    "num_epochs=5\n",
    "train_sZ_spk.train(num_epochs)\n",
    "\n",
    "train_sZ_spk.test(\"test\")\n",
    "print(f\"Test loss: {train_sZ_spk.loss_hist['test'][num_epochs]}\")\n",
    "print(f\"Test relative error: {train_sZ_spk.acc_hist['test'][num_epochs]*100}%\")\n",
    "train_sZ_spk.plot_loss()\n",
    "train_sZ_spk.plot_pred_vs_target(50, logscale=False, linthresh=1)"
   ]
  },
  {
   "cell_type": "markdown",
   "metadata": {},
   "source": [
    "## Y"
   ]
  },
  {
   "cell_type": "code",
   "execution_count": 39,
   "metadata": {},
   "outputs": [],
   "source": [
    "dataset.transform = transform=lambda x: (x[0], ds.to_tensor_and_dtype((x[1][2][1]), torch.float32))\n",
    "train_dataset, test_dataset, val_dataset = ds.build_loaders(dataset, (0.7, 0.15), shuffle=True, num_workers=0)"
   ]
  },
  {
   "cell_type": "code",
   "execution_count": null,
   "metadata": {},
   "outputs": [],
   "source": [
    "sigmaY = ((np.array([d[1] for d in dataset])))\n",
    "\n",
    "fig = plt.figure(facecolor=\"w\", figsize=(4, 3))\n",
    "plt.xlabel(r'$\\sigma_{Y}$', fontsize=14)\n",
    "plt.ylabel(\"Counts\")\n",
    "plt.yscale(\"log\")\n",
    "plt.hist(sigmaY)"
   ]
  },
  {
   "cell_type": "code",
   "execution_count": 41,
   "metadata": {},
   "outputs": [],
   "source": [
    "net_sY_spk = Spiking_Net(net_desc_spikefreq, lambda x: spikegen_multi(x,4))\n",
    "\n",
    "opt_sY_spk = torch.optim.Adam(net_sY_spk.parameters(), lr=5e-4, betas=(0.9, 0.999))\n",
    "train_sY_spk = Trainer(net_sY_spk, loss_fn, opt_sY_spk, train_dataset, val_dataset, test_dataset, predict_spikefreq)"
   ]
  },
  {
   "cell_type": "code",
   "execution_count": null,
   "metadata": {},
   "outputs": [],
   "source": [
    "num_epochs=5\n",
    "train_sY_spk.train(num_epochs)\n",
    "\n",
    "train_sY_spk.test(\"test\")\n",
    "print(f\"Test loss: {train_sY_spk.loss_hist['test'][num_epochs]}\")\n",
    "print(f\"Test relative error: {train_sY_spk.acc_hist['test'][num_epochs]*100}%\")\n",
    "train_sY_spk.plot_loss()\n",
    "train_sY_spk.plot_pred_vs_target(50, logscale=False, linthresh=1)"
   ]
  },
  {
   "cell_type": "markdown",
   "metadata": {},
   "source": [
    "# Energy Regression + Y Position"
   ]
  },
  {
   "cell_type": "code",
   "execution_count": null,
   "metadata": {},
   "outputs": [],
   "source": [
    "data_train, data_test, data_val = ds.build_dataset(\"../Data/PrimaryOnly2\",  primary_only=True, target=\"energy\",\n",
    "                                                   transform=lambda x: (x[0], ds.to_tensor_and_dtype(np.log10(x[1]), torch.float32)))\n",
    "\n",
    "batch_size = 50\n",
    "nw = 0\n",
    "train_load = DataLoader(data_train[:(len(data_train)//batch_size)*batch_size], batch_size=batch_size, shuffle=True, num_workers=nw)\n",
    "val_load   = DataLoader(data_val[:(len(data_val)//batch_size)*batch_size],     batch_size=batch_size, shuffle=True, num_workers=nw)\n",
    "test_load  = DataLoader(data_test[:(len(data_test)//batch_size)*batch_size],   batch_size=batch_size, shuffle=True, num_workers=nw)"
   ]
  },
  {
   "cell_type": "code",
   "execution_count": null,
   "metadata": {},
   "outputs": [],
   "source": [
    "def spikegen_multi(data, multiplicity=4):\n",
    "    og_shape = data.shape\n",
    "    spike_data = torch.zeros(og_shape[1], og_shape[0], multiplicity*og_shape[2])\n",
    "    for i in range(multiplicity):\n",
    "        condition = data > np.power(10, i+2)\n",
    "        batch_idx, time_idx, sensor_idx = torch.nonzero(condition, as_tuple=True)\n",
    "        spike_data[time_idx, batch_idx, multiplicity*sensor_idx+i] = 1\n",
    "\n",
    "    return spike_data\n",
    "\n",
    "def spikegen_with_position(data, *args, **kwargs):\n",
    "    spk1 = spikegen_multi(data, *args, **kwargs)\n",
    "    spk2 = net_y(data)\n",
    "\n",
    "    output = torch.cat((spk1, spk2), dim=2)\n",
    "\n",
    "    return output\n",
    "\n",
    "\n",
    "population = 10\n",
    "net_desc_spikefreq_with_pos = {\n",
    "    \"layers\" : [410, 200, population],\n",
    "    \"timesteps\": 100,\n",
    "    \"output\": \"membrane\",\n",
    "    \"neuron_params\" : {\n",
    "                1: [snn.Leaky, \n",
    "                    {\"beta\" : 1.0,\n",
    "                    \"learn_beta\": True,\n",
    "                    \"threshold\" : 1.0,\n",
    "                    \"learn_threshold\": True,\n",
    "                    \"spike_grad\": surrogate.fast_sigmoid(),\n",
    "                    }],\n",
    "                2: [snn.Leaky, \n",
    "                    {\"beta\" : 1.0,\n",
    "                    \"learn_beta\": True,\n",
    "                    \"threshold\" : 1.0,\n",
    "                    \"learn_threshold\": True, \n",
    "                    \"spike_grad\": surrogate.fast_sigmoid(),\n",
    "                    }]\n",
    "                }\n",
    "    }\n",
    "\n",
    "net_E = Spiking_Net(net_desc_spikefreq_with_pos, lambda x: spikegen_with_position(x,4))\n",
    "\n",
    "optimizer_E = torch.optim.Adam(net_E.parameters(), lr=5e-4, betas=(0.9, 0.999))\n",
    "train_net_E = Trainer(net_E, loss_fn, optimizer_E, train_load, val_load, test_load, predict_spikefreq)\n",
    "    "
   ]
  },
  {
   "cell_type": "code",
   "execution_count": null,
   "metadata": {},
   "outputs": [],
   "source": [
    "num_epochs=10\n",
    "train_net_E.train(num_epochs)\n",
    "\n",
    "train_net_E.test(\"test\")\n",
    "print(f\"Test loss: {train_net_E.loss_hist['test'][10]}\")\n",
    "print(f\"Test relative error: {train_net_E.acc_hist['test'][10]*100}%\")\n",
    "train_net_E.plot_loss()\n",
    "train_net_E.plot_pred_vs_target(50, logscale=False, linthresh=1)"
   ]
  },
  {
   "cell_type": "code",
   "execution_count": null,
   "metadata": {},
   "outputs": [],
   "source": [
    "def antitransform(x):\n",
    "    return torch.pow(10, x)\n",
    "\n",
    "train_net_E.test(\"test\", transform=antitransform)\n",
    "print(f\"Test loss: {train_net_E.loss_hist['test'][num_epochs]}\")\n",
    "print(f\"Test relative error: {train_net_E.acc_hist['test'][num_epochs]*100}%\")\n",
    "train_net_E.plot_pred_vs_target(50, transform=antitransform, logscale=True, linthresh=1)"
   ]
  },
  {
   "cell_type": "code",
   "execution_count": null,
   "metadata": {},
   "outputs": [],
   "source": [
    "net_E.eval()\n",
    "all_x = []\n",
    "all_predictions = []\n",
    "with torch.no_grad():\n",
    "    for data, targets in test_load:\n",
    "        data = data.to(device)\n",
    "        targets = targets.to(device)\n",
    "\n",
    "        # forward pass\n",
    "        output = net_E(data)\n",
    "        # calculate total accuracy\n",
    "        pred, acc = predict_spikefreq(output, targets, antitransform)\n",
    "        all_predictions.extend(pred.tolist())\n",
    "        all_x.extend(data.sum((1,2)).tolist())\n",
    "        \n",
    "fig = plt.figure(facecolor=\"w\", figsize=(10, 6))\n",
    "plt.xlabel(\"Photon Count\")\n",
    "plt.ylabel(\"Energy Prediction [MeV]\")\n",
    "plt.hist2d(all_x, all_predictions, 50, norm=SymLogNorm(linthresh=1), cmap='viridis')\n",
    "# Add a color bar\n",
    "plt.colorbar(label='Counts')\n",
    "plt.plot([0, 1e5], [0, 1e5], color='white', linewidth=1, linestyle='--')"
   ]
  },
  {
   "cell_type": "markdown",
   "metadata": {},
   "source": [
    "# N of interactions"
   ]
  },
  {
   "cell_type": "code",
   "execution_count": null,
   "metadata": {},
   "outputs": [],
   "source": [
    "data_train, data_test, data_val = ds.build_dataset(\"../Data/PrimaryOnly\", max_files=5, target=\"N_int\",\n",
    "                                                   transform= lambda x: (x[0], ds.to_tensor_and_dtype(x[1], torch.float32)))"
   ]
  },
  {
   "cell_type": "code",
   "execution_count": null,
   "metadata": {},
   "outputs": [],
   "source": [
    "batch_size = 50\n",
    "nw = 0\n",
    "train_load = DataLoader(data_train[:(len(data_train)//batch_size)*batch_size], batch_size=batch_size, shuffle=True, num_workers=nw)\n",
    "val_load   = DataLoader(data_val[:(len(data_val)//batch_size)*batch_size],     batch_size=batch_size, shuffle=True, num_workers=nw)\n",
    "test_load  = DataLoader(data_test[:(len(data_test)//batch_size)*batch_size],   batch_size=batch_size, shuffle=True, num_workers=nw)"
   ]
  },
  {
   "cell_type": "code",
   "execution_count": null,
   "metadata": {},
   "outputs": [],
   "source": [
    "Nint = ((np.array([d[1] for d in data_train])))\n",
    "\n",
    "fig = plt.figure(facecolor=\"w\", figsize=(10, 6))\n",
    "plt.xlabel(r'$\\sigma_{E}$', fontsize=14)\n",
    "plt.ylabel(\"Counts\")\n",
    "plt.yscale(\"log\")\n",
    "plt.hist(Nint)\n"
   ]
  },
  {
   "cell_type": "code",
   "execution_count": null,
   "metadata": {},
   "outputs": [],
   "source": [
    "min(Nint)"
   ]
  },
  {
   "cell_type": "code",
   "execution_count": null,
   "metadata": {},
   "outputs": [],
   "source": [
    "idx = 15\n",
    "print(Nint[idx])\n",
    "visualize.plot_views(idx, data_train)"
   ]
  },
  {
   "cell_type": "markdown",
   "metadata": {},
   "source": [
    "# OLD"
   ]
  },
  {
   "cell_type": "code",
   "execution_count": null,
   "metadata": {},
   "outputs": [],
   "source": [
    "class Net_LIF_1L(nn.Module):\n",
    "    \"\"\"FCN with 1 hidden layer and LIF neurons.\"\"\"\n",
    "\n",
    "    def __init__(self, input_feat, hidden, out_feat, timesteps,\n",
    "                 learnable=True, beta=0.8, threshold=1.0):\n",
    "        super().__init__()\n",
    "        \n",
    "        self.input_feat = input_feat          # number of input neurons \n",
    "        self.hidden = hidden                  # number of hidden neurons\n",
    "        self.out_feat = out_feat              # number of output neurons\n",
    "        \n",
    "        self.timesteps = timesteps            # number of time steps to simulate the network\n",
    "\n",
    "        spike_grad = surrogate.fast_sigmoid() # surrogate gradient function\n",
    "        \n",
    "        self.fc_in = nn.Linear(in_features=self.input_feat, out_features=self.hidden)\n",
    "        self.lif_in = snn.Leaky(beta=beta, spike_grad=spike_grad, threshold=threshold,\n",
    "                                learn_beta=learnable, learn_threshold=learnable)\n",
    "        \n",
    "        self.fc_out = nn.Linear(in_features=self.hidden, out_features=self.out_feat)\n",
    "        self.lif_out = snn.Leaky(beta=beta, spike_grad=spike_grad, threshold=threshold,\n",
    "                                 learn_beta=learnable, learn_threshold=learnable)\n",
    "        \n",
    "    def _spikegen(self, data):\n",
    "        spike_data = data.transpose(0,1) \n",
    "        spike_train = torch.where(spike_data > 300, torch.tensor(1), torch.tensor(0)).to(torch.float32) \n",
    "        return spike_train\n",
    "    \n",
    "    def forward(self, data):\n",
    "        \"\"\"Forward pass for several time steps.\"\"\"\n",
    "\n",
    "        x = self._spikegen(data)\n",
    "\n",
    "        # Initalize membrane potential\n",
    "        mem1 = self.lif_in.init_leaky()\n",
    "        mem2 = self.lif_out.init_leaky()\n",
    "\n",
    "        # Record the final layer\n",
    "        spk2_rec = []\n",
    "        mem2_rec = []\n",
    "\n",
    "        # Loop over \n",
    "        for step in range(self.timesteps):\n",
    "                \n",
    "            cur1 = self.fc_in(x[step])\n",
    "            spk1, mem1 = self.lif_in(cur1, mem1)\n",
    "            cur2 = self.fc_out(spk1)\n",
    "            spk2, mem2 = self.lif_out(cur2, mem2)\n",
    "            spk2_rec.append(spk2)\n",
    "            mem2_rec.append(mem2)\n",
    "\n",
    "        return torch.stack(spk2_rec, dim=0)"
   ]
  },
  {
   "cell_type": "code",
   "execution_count": null,
   "metadata": {},
   "outputs": [],
   "source": [
    "class Net_Reg(nn.Module):\n",
    "    \"\"\"FCN with 1 hidden layer and LIF neurons.\"\"\"\n",
    "\n",
    "    def __init__(self, input_feat, hidden, timesteps,\n",
    "                 learnable=True, beta=0.8, threshold=1.0):\n",
    "        super().__init__()\n",
    "        \n",
    "        self.input_feat = input_feat          # number of input neurons \n",
    "        self.hidden = hidden                  # number of hidden neurons\n",
    "        self.out_feat = 1                     # number of output neurons\n",
    "        \n",
    "        self.timesteps = timesteps            # number of time steps to simulate the network\n",
    "\n",
    "        spike_grad = surrogate.fast_sigmoid() # surrogate gradient function\n",
    "        \n",
    "        self.fc_in = nn.Linear(in_features=self.input_feat, out_features=self.hidden)\n",
    "        self.lif_in = snn.Leaky(beta=beta, spike_grad=spike_grad, threshold=threshold,\n",
    "                                learn_beta=learnable, learn_threshold=learnable)\n",
    "        \n",
    "        self.fc_out = nn.Linear(in_features=self.hidden, out_features=self.out_feat)\n",
    "        self.lif_out = snn.Leaky(beta=beta, spike_grad=spike_grad, threshold=1e20,\n",
    "                                 learn_beta=learnable)\n",
    "        \n",
    "    def _spikegen(self, data):\n",
    "        spike_data = data.transpose(0,1) \n",
    "        spike_train = torch.where(spike_data > 300, torch.tensor(1), torch.tensor(0)).to(torch.float32) \n",
    "        return spike_train\n",
    "    \n",
    "    def forward(self, data):\n",
    "        \"\"\"Forward pass for several time steps.\"\"\"\n",
    "\n",
    "        x = self._spikegen(data)\n",
    "\n",
    "        # Initalize membrane potential\n",
    "        mem1 = self.lif_in.init_leaky()\n",
    "        mem2 = self.lif_out.init_leaky()\n",
    "\n",
    "        # Record the final layer\n",
    "        spk2_rec = []\n",
    "        mem2_rec = []\n",
    "\n",
    "        # Loop over \n",
    "        for step in range(self.timesteps):\n",
    "                \n",
    "            cur1 = self.fc_in(x[step])\n",
    "            spk1, mem1 = self.lif_in(cur1, mem1)\n",
    "            cur2 = self.fc_out(spk1)\n",
    "            spk2, mem2 = self.lif_out(cur2, mem2)\n",
    "            spk2_rec.append(spk2)\n",
    "            mem2_rec.append(mem2)\n",
    "\n",
    "        return  mem2_rec[-1].squeeze(1)"
   ]
  },
  {
   "cell_type": "code",
   "execution_count": null,
   "metadata": {},
   "outputs": [],
   "source": [
    "#loss = nn.MSELoss()\n",
    "num_inputs = 100\n",
    "num_hidden = 200\n",
    "num_steps = timesteps\n",
    "net2 = Net_Reg(num_inputs, num_hidden, num_steps)"
   ]
  },
  {
   "cell_type": "code",
   "execution_count": null,
   "metadata": {},
   "outputs": [],
   "source": [
    "def accuracy_set(net, data_loader, loss_fn, comp_mc=False):\n",
    "    mcm = MulticlassConfusionMatrix(num_classes=nClasses, normalize='none')\n",
    "    net.eval()\n",
    "    with torch.no_grad():\n",
    "        total = 0\n",
    "        correct = 0\n",
    "        temp_loss = []\n",
    "        for data, targets in data_loader:\n",
    "            data = data.to(device)\n",
    "            targets = targets.to(device)\n",
    "\n",
    "            # create spike train\n",
    "            spike_in = custom_spikegen(data)\n",
    "            spike_in = spike_in.to(device)\n",
    "\n",
    "            # forward pass\n",
    "            output = net(spike_in)\n",
    "\n",
    "            # compute loss\n",
    "            loss = loss_fn(output, targets)\n",
    "            temp_loss.append(loss.item())\n",
    "\n",
    "            # calculate total accuracy\n",
    "            tot, corr, pred = comp_accuracy(output, targets)\n",
    "            total += tot\n",
    "            correct += corr\n",
    "            if comp_mc:\n",
    "                mcm.update(pred, targets)\n",
    "\n",
    "        mean_loss = np.mean(temp_loss)\n",
    "        acc = correct/total\n",
    "\n",
    "        return mean_loss, acc, mcm"
   ]
  },
  {
   "cell_type": "code",
   "execution_count": null,
   "metadata": {},
   "outputs": [],
   "source": [
    "def train_net(net, train_loader, val_loader, num_epochs, loss_fn, optimizer, batch_size=100):\n",
    "\n",
    "    net.to(device)\n",
    "    \n",
    "    loss_hist = []\n",
    "    loss_val_hist = []\n",
    "    acc_val_hist = []\n",
    "\n",
    "    iter_counter = 0\n",
    "\n",
    "    # Validation\n",
    "    mean_loss_val, acc_val, _ = accuracy_set(net, val_loader, loss_fn, batch_size)\n",
    "\n",
    "    loss_val_hist.append(mean_loss_val)\n",
    "    acc_val_hist.append(acc_val)\n",
    "    print(f\"Validation Set Loss: {mean_loss_val}\")\n",
    "    print(f\"Validation Set Accuracy: {100 *acc_val:.2f}%\")\n",
    "    print(\"\\n--------------------------------------------------\\n\")\n",
    "\n",
    "    for epoch in range(num_epochs):\n",
    "        net.train()\n",
    "        batch_counter = 0\n",
    "        # Minibatch training loop\n",
    "        for data, targets in train_loader:\n",
    "            data = data.to(device)\n",
    "            targets = targets.to(device)\n",
    "\n",
    "            # create spike train\n",
    "            spike_in = custom_spikegen(data)\n",
    "            spike_in = spike_in.to(device)\n",
    "\n",
    "            # forward pass\n",
    "            output = net(spike_in)\n",
    "\n",
    "            # compute loss\n",
    "            loss_val = loss_fn(output, targets)\n",
    "        \n",
    "            # Gradient calculation + weight update\n",
    "            optimizer.zero_grad()\n",
    "            loss_val.backward()\n",
    "            optimizer.step()\n",
    "\n",
    "            # Store loss history for future plotting\n",
    "            loss_hist.append(loss_val.item())\n",
    "        \n",
    "            if iter_counter % 50 == 0:\n",
    "                print(\"Epoch:\", epoch+1)\n",
    "                print(\"Batch:\", batch_counter)\n",
    "                print(\"Iteration:\", iter_counter)\n",
    "                print(\"Loss:\", loss_val.item(),\"\\n\")\n",
    "        \n",
    "            batch_counter += 1\n",
    "            iter_counter += 1\n",
    "\n",
    "        # Validation\n",
    "        mean_loss_val, acc_val, _ = accuracy_set(net, val_loader, loss_fn, batch_size)\n",
    "\n",
    "        loss_val_hist.append(mean_loss_val)\n",
    "        acc_val_hist.append(acc_val)\n",
    "        print(f\"Validation Set Loss: {mean_loss_val}\")\n",
    "        print(f\"Validation Set Accuracy: {100 *acc_val:.2f}%\")\n",
    "        print(\"\\n--------------------------------------------------\\n\")\n",
    "\n",
    "    return loss_hist, loss_val_hist, acc_val_hist"
   ]
  },
  {
   "cell_type": "code",
   "execution_count": null,
   "metadata": {},
   "outputs": [],
   "source": [
    "net = Net_LIF_1L(num_inputs, num_hidden, num_outputs, num_steps).to(device)\n",
    "net.train()"
   ]
  },
  {
   "cell_type": "code",
   "execution_count": null,
   "metadata": {},
   "outputs": [],
   "source": [
    "num_epochs = 5\n",
    "iter_counter = 0\n",
    "\n",
    "#loss = nn.MSELoss()\n",
    "num_inputs = 100\n",
    "num_hidden = 200\n",
    "num_outputs = nClasses\n",
    "num_steps = timesteps\n",
    "net = Net_LIF_1L(num_inputs, num_hidden, num_outputs, num_steps).to(device)\n",
    "loss_fn = SF.ce_count_loss(num_classes=nClasses)\n",
    "optimizer = torch.optim.Adam(net.parameters(), lr=5e-4, betas=(0.9, 0.999))\n",
    "\n",
    "res = train_net(net, train_load, val_load, num_epochs, loss_fn, optimizer, batch_size=100)"
   ]
  },
  {
   "cell_type": "code",
   "execution_count": null,
   "metadata": {},
   "outputs": [],
   "source": [
    "# Plot Loss\n",
    "fig = plt.figure(facecolor=\"w\", figsize=(20, 6))\n",
    "plt.plot(res[0])\n",
    "plt.title(\"Train loss\")\n",
    "plt.xlabel(\"Iteration\")\n",
    "plt.ylabel(\"Loss\")\n",
    "#plt.yscale(\"log\")\n",
    "plt.show()"
   ]
  },
  {
   "cell_type": "code",
   "execution_count": null,
   "metadata": {},
   "outputs": [],
   "source": [
    "# Plot Loss\n",
    "fig = plt.figure(facecolor=\"w\", figsize=(20, 6))\n",
    "plt.plot(res[1])\n",
    "plt.title(\"Validation loss\")\n",
    "plt.xlabel(\"Iteration\")\n",
    "plt.ylabel(\"Loss\")\n",
    "#plt.yscale(\"log\")\n",
    "plt.show()"
   ]
  },
  {
   "cell_type": "code",
   "execution_count": null,
   "metadata": {},
   "outputs": [],
   "source": [
    "test = accuracy_set(net, test_load, loss_fn, True)\n",
    "test[2].plot()"
   ]
  },
  {
   "cell_type": "code",
   "execution_count": null,
   "metadata": {},
   "outputs": [],
   "source": [
    "\n",
    "for data, targets in train_load:\n",
    "            data = data.to(device)\n",
    "            targets = targets.to(device)\n",
    "\n",
    "            # create spike train\n",
    "            spike_in = custom_spikegen(data)\n",
    "            spike_in = spike_in.to(device)\n",
    "\n",
    "            print(spike_in.shape)\n",
    "            break"
   ]
  }
 ],
 "metadata": {
  "kernelspec": {
   "display_name": "Python 3",
   "language": "python",
   "name": "python3"
  },
  "language_info": {
   "codemirror_mode": {
    "name": "ipython",
    "version": 3
   },
   "file_extension": ".py",
   "mimetype": "text/x-python",
   "name": "python",
   "nbconvert_exporter": "python",
   "pygments_lexer": "ipython3",
   "version": "3.11.10"
  }
 },
 "nbformat": 4,
 "nbformat_minor": 2
}
